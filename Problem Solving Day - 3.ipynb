{
 "cells": [
  {
   "cell_type": "markdown",
   "id": "de612d5f-7372-4674-8131-23675adaaa2f",
   "metadata": {},
   "source": [
    "# Bit Manipulation"
   ]
  },
  {
   "cell_type": "markdown",
   "id": "4b59a67b-d85f-4a76-9d19-708560929552",
   "metadata": {},
   "source": [
    "## Bit manipulation Operators: & (AND), | (OR), ~ (COMPLEMENT), ^ (XOR), << (LEFT SHIFT), >> (RIGHT SHIFT)"
   ]
  },
  {
   "cell_type": "code",
   "execution_count": 4,
   "id": "5a848790-2652-45dd-a7b1-2061f01ca5a1",
   "metadata": {},
   "outputs": [
    {
     "name": "stdout",
     "output_type": "stream",
     "text": [
      "100 & 50 = 32\n"
     ]
    }
   ],
   "source": [
    "data1 = 100 # 100 = 64 + 32 + 4 = 0110 0100\n",
    "data2 = 50  # 50 = 32 + 16 + 2  = 0011 0010\n",
    "\n",
    "result = data1 & data2 # 0110 0100 \n",
    "#                      & 0011 0010\n",
    "#                   ------------------\n",
    "#                        0010 0000\n",
    "print(f\"{data1} & {data2} = {result}\")"
   ]
  },
  {
   "cell_type": "code",
   "execution_count": 5,
   "id": "f9699adb-88a8-4609-9a1b-c2976eb2c448",
   "metadata": {},
   "outputs": [
    {
     "name": "stdout",
     "output_type": "stream",
     "text": [
      "100 | 50 = 118\n"
     ]
    }
   ],
   "source": [
    "data1 = 100 # 100 = 64 + 32 + 4 = 0110 0100\n",
    "data2 = 50  # 50 = 32 + 16 + 2  = 0011 0010\n",
    "\n",
    "result = data1 | data2 # 0110 0100 \n",
    "#                      | 0011 0010\n",
    "#                   ------------------\n",
    "#                        0111 0110 => 64 + 32 + 16 + 4 +2 = 118\n",
    "\n",
    "print(f\"{data1} | {data2} = {result}\")"
   ]
  },
  {
   "cell_type": "code",
   "execution_count": 6,
   "id": "ee313256-e48c-4d3c-a998-ff2f420bda13",
   "metadata": {},
   "outputs": [
    {
     "name": "stdout",
     "output_type": "stream",
     "text": [
      "100 ^ 50 = 86\n"
     ]
    }
   ],
   "source": [
    "data1 = 100 # 100 = 64 + 32 + 4 = 0110 0100\n",
    "data2 = 50  # 50 = 32 + 16 + 2  = 0011 0010\n",
    "\n",
    "result = data1 ^ data2 # 0110 0100 \n",
    "#                      ^ 0011 0010\n",
    "#                   ------------------\n",
    "#                        0101 0110 => 64 + 16 + 4 +2 = 86\n",
    "\n",
    "print(f\"{data1} ^ {data2} = {result}\")"
   ]
  },
  {
   "cell_type": "code",
   "execution_count": 9,
   "id": "2ed984a0-454b-44f7-9883-553d577143db",
   "metadata": {},
   "outputs": [
    {
     "name": "stdout",
     "output_type": "stream",
     "text": [
      "`~100 = -101\n"
     ]
    }
   ],
   "source": [
    "data1 = 100 # 100 = 64 + 32 + 4 = 0110 0100\n",
    "result = ~data1    #  ~(0110 0100) = 1001 1011\n",
    "#                 => -(0110 0100 + 1) \n",
    "#                 => -(64 + 32 + 4 + 1) = -101\n",
    " \n",
    "print(f\"`~{data1} = {result}\")"
   ]
  },
  {
   "cell_type": "code",
   "execution_count": 13,
   "id": "d61f3c38-09b2-4f65-9697-1456200965dc",
   "metadata": {},
   "outputs": [
    {
     "name": "stdout",
     "output_type": "stream",
     "text": [
      "100 << 2 = 400\n"
     ]
    }
   ],
   "source": [
    "data1 = 100 # 100 = 64 + 32 + 4 = 0110 0100\n",
    "result = data1 << 2   #  0110 0100 << 2\n",
    "#                    =>  0110 0100 00 => 0001 1001 0000 \n",
    "#                    =>  256 +128 + 16 =  100 x 2 ^ 2\n",
    "#                    => m << n = m * 2 ^ n\n",
    "print(f\"{data1} << 2 = {result}\")"
   ]
  },
  {
   "cell_type": "code",
   "execution_count": 14,
   "id": "b430afe5-a59e-46bd-b01a-4e47a0d49597",
   "metadata": {},
   "outputs": [
    {
     "name": "stdout",
     "output_type": "stream",
     "text": [
      "100 >> 2 = 25\n"
     ]
    }
   ],
   "source": [
    "data1 = 100 # 100 = 64 + 32 + 4 = 0110 0100\n",
    "result = data1 >> 2   #  0110 0100 >> 2\n",
    "#                    =>  1100 01 => 0001 1001 \n",
    "#                    =>  16 + 8  + 1 =  25 = 100 / 2 ^ 2\n",
    "#                    => m >> n = m / 2 ^ n\n",
    "print(f\"{data1} >> 2 = {result}\")"
   ]
  },
  {
   "cell_type": "code",
   "execution_count": null,
   "id": "587546c9-66d0-454f-8390-3e6bbab46657",
   "metadata": {},
   "outputs": [],
   "source": [
    "A => 65 => 64 + 1      = 0100 0001\n",
    "                     xor 0010 0001 (32 = 0x20)\n",
    "                    -----------------\n",
    "a => 65 => 64 + 32 + 1 = 0110 0001\n",
    "                     xor 0010 0001 (32 = 0x20)\n",
    "                    -----------------\n",
    "A => 65 => 64 + 1      = 0100 0001"
   ]
  },
  {
   "cell_type": "code",
   "execution_count": 16,
   "id": "13767d65-b330-4e00-926d-743fdfc7f6ca",
   "metadata": {},
   "outputs": [
    {
     "name": "stdout",
     "output_type": "stream",
     "text": [
      "A a\n",
      "a A\n"
     ]
    }
   ],
   "source": [
    "ch = \"A\"\n",
    "print(ch, chr(ord(ch) ^ 0x20))\n",
    "ch = \"a\"\n",
    "print(ch, chr(ord(ch) ^ 0x20))"
   ]
  },
  {
   "cell_type": "code",
   "execution_count": 21,
   "id": "33e167ed-22f7-4322-8dc3-1bceefed2d96",
   "metadata": {},
   "outputs": [
    {
     "name": "stdout",
     "output_type": "stream",
     "text": [
      "A\n",
      "a\n"
     ]
    }
   ],
   "source": [
    "def caseConversion(ch):   # .lower() also uses this kind of function\n",
    "    return chr(ord(ch) ^ 0x20)\n",
    "\n",
    "mychar = 'a'\n",
    "print(caseConversion(mychar))\n",
    "mychar = 'A'\n",
    "print(caseConversion(mychar))"
   ]
  },
  {
   "cell_type": "code",
   "execution_count": 23,
   "id": "55aedb6c-b164-409f-be7c-fc480bb0c74f",
   "metadata": {},
   "outputs": [
    {
     "name": "stdout",
     "output_type": "stream",
     "text": [
      "65 A\n",
      "A 65\n"
     ]
    }
   ],
   "source": [
    "mydata = 65\n",
    "print(mydata, chr(mydata))\n",
    "mydata = \"A\"\n",
    "print(mydata, ord(mydata))"
   ]
  },
  {
   "cell_type": "code",
   "execution_count": 30,
   "id": "76cadfae-77ce-404c-8b9b-531fb16663aa",
   "metadata": {},
   "outputs": [
    {
     "name": "stdout",
     "output_type": "stream",
     "text": [
      "101 is ODD is True\n",
      "100 is ODD is False\n"
     ]
    }
   ],
   "source": [
    "def isODD(num):\n",
    "    return True if (num & 1) else False\n",
    "\n",
    "number = 101\n",
    "print(f\"{number} is ODD is {isODD(number)}\")\n",
    "number = 100\n",
    "print(f\"{number} is ODD is {isODD(number)}\")"
   ]
  },
  {
   "cell_type": "code",
   "execution_count": 31,
   "id": "77f0af79-a500-4d24-9272-28ea3537daf3",
   "metadata": {},
   "outputs": [
    {
     "name": "stdout",
     "output_type": "stream",
     "text": [
      "101 is EVEN is False\n",
      "100 is EVEN is True\n"
     ]
    }
   ],
   "source": [
    "def isEVEN(num):\n",
    "    return not isODD(num)\n",
    "\n",
    "number = 101\n",
    "print(f\"{number} is EVEN is {isEVEN(number)}\")\n",
    "\n",
    "number = 100\n",
    "print(f\"{number} is EVEN is {isEVEN(number)}\")"
   ]
  },
  {
   "cell_type": "code",
   "execution_count": 35,
   "id": "5bc28411-e863-4be8-8ded-2dd801b9c62f",
   "metadata": {},
   "outputs": [
    {
     "name": "stdout",
     "output_type": "stream",
     "text": [
      "Bit at 2-th in 25 is 0\n",
      "Bit at 4-th in 25 is 1\n"
     ]
    }
   ],
   "source": [
    "# find the i-th bit form the right in number n\n",
    "def getBit(n, i):\n",
    "    mask = 1 << i\n",
    "    return 1 if (n & mask) else 0\n",
    "#                    7654 3210\n",
    "# 25 = 16 + 8 + 1 => 0001 1001\n",
    "#            1 << 4  0001 0000 &\n",
    "#                -----------------\n",
    "#                    0001 0000 != 0 => 1\n",
    "n = 25\n",
    "p = 2\n",
    "print(f\"Bit at {p}-th in {n} is {getBit(n, p)}\")\n",
    "p = 4\n",
    "print(f\"Bit at {p}-th in {n} is {getBit(n, p)}\")"
   ]
  },
  {
   "cell_type": "code",
   "execution_count": 38,
   "id": "85e370c7-2c9f-4098-924f-de9bc83f8773",
   "metadata": {},
   "outputs": [
    {
     "name": "stdout",
     "output_type": "stream",
     "text": [
      "29\n",
      "12\n"
     ]
    }
   ],
   "source": [
    "# Set the i-th bit of the number n\n",
    "def setBit(n, i): \n",
    "    return n | (1 << i)\n",
    "\n",
    "print(setBit(25, 2))  # 5 = 4 + 1 => 0000 0101 =>  0000 0110 => 7 (5 + 4)\n",
    "print(setBit(8, 2))  \n"
   ]
  },
  {
   "cell_type": "code",
   "execution_count": 39,
   "id": "28a8b0c9-e0ff-4070-981b-75d09b755486",
   "metadata": {},
   "outputs": [
    {
     "name": "stdout",
     "output_type": "stream",
     "text": [
      "29\n",
      "1\n"
     ]
    }
   ],
   "source": [
    "# Complement the i-th bit of the number n\n",
    "def complementBit(n, i):\n",
    "    return n ^ (1 << i)\n",
    "\n",
    "print(complementBit(25, 2)) # 5 = 4 + 1 => 0000 0101 => 0000 0100\n",
    "print(complementBit(5, 2))  \n"
   ]
  },
  {
   "cell_type": "code",
   "execution_count": 45,
   "id": "d1d5a1e9-65be-4b0b-89c9-68054037c687",
   "metadata": {},
   "outputs": [
    {
     "name": "stdout",
     "output_type": "stream",
     "text": [
      " n = 63, i  4, j = 2 and result = 35\n"
     ]
    }
   ],
   "source": [
    "# Clear all bits in n from bit position i (right) to j (left) bit positions\n",
    "#                                 7654 3210\n",
    "# 63 = 32 + 16 + 8 + 4 + 2 + 1  = 0011 1111\n",
    "# let i = 4, j = 2\n",
    "                                # mask1 = 1110 0000  => -1 << (i + j) - 1\n",
    "                                # mask2 = 0000 0011  => ~((-1) << 2)\n",
    "#                         mask1 | mask2 = 1110 0011 \n",
    "# # 63 = 32 + 16 + 8 + 4 + 2 + 1  =       0011 1111  & \n",
    "#                                   ------------------------\n",
    "# so result =                             0010 0011 => 32 + 2 + 1 = 35\n",
    "\n",
    "def clearRangeItoJ(n, i, j):\n",
    "    mask = (1 << (i + 1)) | ((1 << j) - 1)\n",
    "    return n & mask\n",
    "\n",
    "n = 63\n",
    "i = 4\n",
    "j = 2\n",
    "print(f\" n = {n}, i  {i}, j = {j} and result = {clearRangeItoJ(n, i, j)}\") "
   ]
  },
  {
   "cell_type": "code",
   "execution_count": 47,
   "id": "c5043ade-503a-4b2e-86f4-42821c007b24",
   "metadata": {},
   "outputs": [
    {
     "name": "stdout",
     "output_type": "stream",
     "text": [
      "47\n"
     ]
    }
   ],
   "source": [
    "# In n i-th bit will be replaced by b (either 0 or 1)\n",
    "def replaceithBit(n, i, b):\n",
    "    mask = ~(1 << i)            \n",
    "    cleared = n & mask         \n",
    "    return cleared | (b << i)  \n",
    "\n",
    "\n",
    "n = 63\n",
    "i = 4\n",
    "b = 0\n",
    "print(replaceithBit(n, i, b))\n",
    "\n",
    "# 63 = 32 + 16 + 8 + 4 + 2 + 1  = 0011 1111\n",
    "#                                 0001 0000 & \n",
    "#                               ---------------\n",
    "#                      cleared  = 0011 1111\n",
    "#                                 1110 1111  |\n",
    "#                               ---------------\n",
    "#                                 0010 1111 => 32 + 8 + 4 + 2 + 1 => 47 "
   ]
  },
  {
   "cell_type": "code",
   "execution_count": 56,
   "id": "063d8b0a-1049-4f72-996d-ca75df0602af",
   "metadata": {},
   "outputs": [
    {
     "name": "stdout",
     "output_type": "stream",
     "text": [
      "For n = 63, number of set bits = 6\n"
     ]
    }
   ],
   "source": [
    "# Find the number of set bits in a numner n\n",
    "# for n = 63 = 0011 1111 , output will be 6\n",
    "def countSetBits(n):\n",
    "    count = 0\n",
    "    while n > 0:\n",
    "        if n & 1:\n",
    "            count += 1\n",
    "        n = n >> 1\n",
    "    return count\n",
    "n = 63\n",
    "print(f\"For n = {n}, number of set bits = {countSetBits(n)}\")"
   ]
  },
  {
   "cell_type": "code",
   "execution_count": 57,
   "id": "412128ee-c832-4177-82fd-5e2f58d4ffc6",
   "metadata": {},
   "outputs": [
    {
     "name": "stdout",
     "output_type": "stream",
     "text": [
      "Looping\n",
      "Looping\n",
      "Looping\n",
      "For n = 41, number of set bits = 3\n"
     ]
    }
   ],
   "source": [
    "# Improved - Find the number of set bits in a numner n\n",
    "# for n = 41 = 32 + 8 +1 => 0010 1001 = output will be 3\n",
    "def countSetBits(n):           #   ans       n\n",
    "    count = 0                  # ---------------\n",
    "    while n:                   #   0         41 = 101001\n",
    "        n = n & (n - 1)        #   1         41 & 40 = 101001 & 101000 = 101000\n",
    "        count += 1             #   2         40 & 39 = 101000 & 100111 = 100000 \n",
    "        print(\"Looping\")       #   3         32 & 31 = 100000 & 011111 = 0\n",
    "    return count\n",
    "n = 41\n",
    "print(f\"For n = {n}, number of set bits = {countSetBits(n)}\")\n"
   ]
  },
  {
   "cell_type": "markdown",
   "id": "e774c312-9d2a-448a-987e-a19dabd1ab96",
   "metadata": {},
   "source": [
    "## Problem on Power of Two\n",
    "## Given an integer number n, write a function to determine if it is a power of tow or not\n",
    "## Example:\n",
    "1. if n = 16 output = True\n",
    "2. if n = 64 output = False"
   ]
  },
  {
   "cell_type": "code",
   "execution_count": 60,
   "id": "59bec29b-7c4d-4196-b867-efa598fd9a6d",
   "metadata": {},
   "outputs": [
    {
     "name": "stdin",
     "output_type": "stream",
     "text": [
      "Enter a number 60\n"
     ]
    },
    {
     "name": "stdout",
     "output_type": "stream",
     "text": [
      "False\n"
     ]
    }
   ],
   "source": [
    "# n = 100 => 64 + 32 + 4       = 0110 0100\n",
    "# n - 1 =99 => 64 + 32 + 2 + 1 = 0110 0011\n",
    "#                              & ------------\n",
    "#                                0 110 0000 != 0\n",
    "# n = 64 =>                0100 0000\n",
    "# n - 1 = 63    =          0011 1111\n",
    "#                         -------------\n",
    "#                          0000 0000 = 0 = n & (n - 1)\n",
    "\n",
    "# Logic - 1\n",
    "def pow2(num):\n",
    "    return n > 0 and (n & (n - 1)) == 0\n",
    "\n",
    "n = int(input(\"Enter a number\"))\n",
    "print(pow2(n))\n"
   ]
  },
  {
   "cell_type": "code",
   "execution_count": 62,
   "id": "7f273a91-0ef5-4715-8acb-21f8de7a7e15",
   "metadata": {},
   "outputs": [
    {
     "name": "stdout",
     "output_type": "stream",
     "text": [
      "n = 16 and output = True\n",
      "n = 64 and output = True\n",
      "n = 60 and output = False\n"
     ]
    }
   ],
   "source": [
    "# Logic - 2\n",
    "def power_of_two(n):\n",
    "    power = 0\n",
    "    while (2 ** power < n):\n",
    "        power += 1\n",
    "    if (2 ** power == n): return True\n",
    "    else: return False\n",
    "\n",
    "n = 16\n",
    "print(f\"n = {n} and output = {power_of_two(n)}\")\n",
    "n = 64\n",
    "print(f\"n = {n} and output = {power_of_two(n)}\")\n",
    "n = 60\n",
    "print(f\"n = {n} and output = {power_of_two(n)}\")\n"
   ]
  },
  {
   "cell_type": "markdown",
   "id": "e55a0929-e773-4684-9d14-78e5a3bdd6f3",
   "metadata": {},
   "source": [
    "## Single Number - 1\n",
    "Given a non-empty array of integers, every element apppears twice except one. Find that single One.\n",
    "1. Example 1: input: [11, 33, 22, 44, 33, 11, 22], output: 44\n",
    "2. Example 2: input: [10, 20, 40, 30, 20, 10, 60, 60, 30], output: 40"
   ]
  },
  {
   "cell_type": "code",
   "execution_count": null,
   "id": "87cc58cc-c853-4a70-bd69-6dcff0fbc56d",
   "metadata": {},
   "outputs": [],
   "source": [
    "def singleNumber(self, nums):\n",
    "        \"\"\"\n",
    "        :type nums: List[int]\n",
    "        :rtype: int\n",
    "        \"\"\"\n",
    "        ans = 0\n",
    "        for num in nums:\n",
    "            ans ^= num\n",
    "        return ans"
   ]
  },
  {
   "cell_type": "code",
   "execution_count": null,
   "id": "d5d716c0-bf25-4685-9d32-830f3978bf3d",
   "metadata": {},
   "outputs": [],
   "source": []
  },
  {
   "cell_type": "code",
   "execution_count": null,
   "id": "9a59fc0d-9b78-48a8-ad67-b42447d3112c",
   "metadata": {},
   "outputs": [],
   "source": []
  },
  {
   "cell_type": "code",
   "execution_count": null,
   "id": "1c72e621-8691-4166-bcf7-dcb6c48594e3",
   "metadata": {},
   "outputs": [],
   "source": []
  },
  {
   "cell_type": "code",
   "execution_count": null,
   "id": "e38ea281-ea02-4348-8d17-108ad1c40cbd",
   "metadata": {},
   "outputs": [],
   "source": []
  },
  {
   "cell_type": "code",
   "execution_count": null,
   "id": "f3b25351-4101-49db-a3d3-2e69214ce4af",
   "metadata": {},
   "outputs": [],
   "source": []
  },
  {
   "cell_type": "code",
   "execution_count": null,
   "id": "bd5f27d9-14fc-4825-b066-60d35312ecc5",
   "metadata": {},
   "outputs": [],
   "source": []
  },
  {
   "cell_type": "code",
   "execution_count": null,
   "id": "800413a8-8020-440c-988a-d4b8e05b0d93",
   "metadata": {},
   "outputs": [],
   "source": []
  }
 ],
 "metadata": {
  "kernelspec": {
   "display_name": "Python 3 (ipykernel)",
   "language": "python",
   "name": "python3"
  },
  "language_info": {
   "codemirror_mode": {
    "name": "ipython",
    "version": 3
   },
   "file_extension": ".py",
   "mimetype": "text/x-python",
   "name": "python",
   "nbconvert_exporter": "python",
   "pygments_lexer": "ipython3",
   "version": "3.11.7"
  }
 },
 "nbformat": 4,
 "nbformat_minor": 5
}
