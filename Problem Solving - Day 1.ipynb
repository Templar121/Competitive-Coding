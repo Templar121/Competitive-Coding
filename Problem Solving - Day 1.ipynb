{
 "cells": [
  {
   "cell_type": "markdown",
   "id": "41e6cc2a-4262-4c8a-8063-03acba5941f5",
   "metadata": {},
   "source": [
    "# Problem Solving with Python"
   ]
  },
  {
   "cell_type": "raw",
   "id": "e366f9d2-fb3b-4ffe-95dd-58c4a5ec691d",
   "metadata": {},
   "source": [
    "# Series problem 1\n",
    "Find the sum of the first n terms of the following series:\n",
    "\n",
    "term# -> 1   2   3   4   5    6   7   8   9   10   11  12   13   14 + ...\n",
    "total =  1 + 2 + 3 + 4 + 10 + 5 + 6 + 7 + 8 + 26 + 9 + 10 + 11 + 12 + ... n terms\n",
    "\n",
    "What is the 99th term of the series?\n",
    "Test the code with following test cases:\n",
    "if n = 5, total = 20\n",
    "if n = 11, total = 81\n",
    "if n = 12, total = 91"
   ]
  },
  {
   "cell_type": "code",
   "execution_count": 5,
   "id": "6fd24aef-9bd2-456f-b122-79a4e642a681",
   "metadata": {},
   "outputs": [
    {
     "name": "stdin",
     "output_type": "stream",
     "text": [
      "Enter the number of terms: 12\n"
     ]
    },
    {
     "name": "stdout",
     "output_type": "stream",
     "text": [
      "For i = 1, adding next term = 1\n",
      "For i = 2, adding next term = 2\n",
      "For i = 3, adding next term = 3\n",
      "For i = 4, adding next term = 4\n",
      "For i = 5 adding tsum = 10\n",
      "For i = 6, adding next term = 5\n",
      "For i = 7, adding next term = 6\n",
      "For i = 8, adding next term = 7\n",
      "For i = 9, adding next term = 8\n",
      "For i = 10 adding tsum = 26\n",
      "For i = 11, adding next term = 9\n",
      "For i = 12, adding next term = 10\n",
      "Total of the Series is 91\n",
      "End of Program\n"
     ]
    }
   ],
   "source": [
    "# Logic - Add the next number to the total unless the position is a multiple of 5, in which case add the sum of the last group instead.\n",
    "\n",
    "n = int(input(\"Enter the number of terms:\"))\n",
    "fsum = tsum = 0\n",
    "term = 1\n",
    "\n",
    "for i in range(1, n + 1):\n",
    "    if i % 5 == 0:\n",
    "        fsum += tsum\n",
    "        print(f\"For i = {i} adding tsum = {tsum}\")\n",
    "        tsum = 0\n",
    "    else:\n",
    "        fsum += term\n",
    "        print(f\"For i = {i}, adding next term = {term}\")\n",
    "        tsum += term\n",
    "        term += 1\n",
    "print(\"Total of the Series is\", fsum)\n",
    "print(\"End of Program\")"
   ]
  },
  {
   "cell_type": "code",
   "execution_count": 8,
   "id": "f9a8f1cc-90db-4318-8246-9745ef2f7594",
   "metadata": {},
   "outputs": [
    {
     "name": "stdin",
     "output_type": "stream",
     "text": [
      "Enter the number of terms 12\n"
     ]
    },
    {
     "name": "stdout",
     "output_type": "stream",
     "text": [
      "8 2\n",
      "72\n",
      "91\n",
      "106\n"
     ]
    }
   ],
   "source": [
    "#Optimization - 1\n",
    "# Compute the total by summing all terms in groups of 4 (with each 5th term being the sum of the previous 4), \n",
    "# and adding the remaining terms based on arithmetic progression after the last full group\n",
    "\n",
    "n = int(input(\"Enter the number of terms\"))\n",
    "last_term = 4 * (n // 5)\n",
    "extra_terms = n % 5\n",
    "total = 0\n",
    "print(last_term, extra_terms)\n",
    "total = total + last_term * (last_term + 1)\n",
    "print(total)\n",
    "total = total + last_term * extra_terms + extra_terms * (extra_terms + 1) // 2\n",
    "print(total)\n",
    "print(eval(\"1 + 2 + 3 + 4 + 10 + 5 + 6 + 7 + 26 + 9 + 10 + 11 + 12\"))"
   ]
  },
  {
   "cell_type": "code",
   "execution_count": 10,
   "id": "0f7c56fc-f775-4957-bf25-e78f42f662da",
   "metadata": {},
   "outputs": [
    {
     "data": {
      "text/plain": [
       "91"
      ]
     },
     "execution_count": 10,
     "metadata": {},
     "output_type": "execute_result"
    }
   ],
   "source": [
    "# Optimization 2 \n",
    "\n",
    "def compute_series_sum(n):\n",
    "    k = n // 5\n",
    "    r = n % 5\n",
    "    return 4*k*(4*k + 1) + 4*k*r + r*(r + 1)//2\n",
    "\n",
    "compute_series_sum(12)"
   ]
  },
  {
   "cell_type": "raw",
   "id": "c4bd5e31-3c42-473e-be25-daafdd03fadb",
   "metadata": {},
   "source": [
    "# Series Problem - 2\n",
    "     i = 1   2   3   4   5   6    7    8    9    10 ...\n",
    " total = 1 - 3 + 5 - 7 + 9 - 11 + 13 - 15 + 17 - 19 + ...\n",
    "\n",
    " Write a program in C++/Java/Python to print the first n terms of the series. Take integer n from the user."
   ]
  },
  {
   "cell_type": "code",
   "execution_count": 11,
   "id": "c211d1e2-32d6-415d-b0ed-98ed6de5f7de",
   "metadata": {},
   "outputs": [
    {
     "name": "stdin",
     "output_type": "stream",
     "text": [
      "Please enter the number of terms:  5\n"
     ]
    },
    {
     "name": "stdout",
     "output_type": "stream",
     "text": [
      "So for i = 1, term = 1...\n",
      "So for i = 2, term = -3...\n",
      "So for i = 3, term = 5...\n",
      "So for i = 4, term = -7...\n",
      "So for i = 5, term = 9...\n",
      "So total = 5\n",
      "End of the program...\n"
     ]
    }
   ],
   "source": [
    "n = int(input(\"Please enter the number of terms: \"))\n",
    "total = 0\n",
    "for i in range(1, n + 1):\n",
    "    term = ((-1) ** (i + 1)) * (2 * i - 1)\n",
    "    print(f\"So for i = {i}, term = {term}...\")\n",
    "    total = total + term\n",
    "print(\"So total =\", total)\n",
    "print(\"End of the program...\")"
   ]
  },
  {
   "cell_type": "code",
   "execution_count": 12,
   "id": "3ce9dfe0-08a0-418f-a4ec-b536c56f1db1",
   "metadata": {},
   "outputs": [
    {
     "data": {
      "text/plain": [
       "5"
      ]
     },
     "execution_count": 12,
     "metadata": {},
     "output_type": "execute_result"
    }
   ],
   "source": [
    "# Optimization 1\n",
    "# The sum is the difference of squares of counts of positive and negative odd terms\n",
    "\n",
    "def compute_alternating_odd_sum(n):\n",
    "    pos = (n + 1) // 2\n",
    "    neg = n // 2\n",
    "    return pos**2 - neg**2\n",
    "\n",
    "compute_alternating_odd_sum(5)"
   ]
  },
  {
   "cell_type": "raw",
   "id": "3f75e9ea-ca1f-48db-9a20-0c50d19e02e4",
   "metadata": {},
   "source": [
    "# Series Problem - 3\n",
    "     i =   1   2   3   4   5   6    7    8    9    10 ...\n",
    " total = - 1 + 3 - 5 + 7 - 9 + 11 - 13 + 15 - 17 + 19 + ...\n",
    "\n",
    " Write a program in C++/Java/Python to print the first n terms of the series. Take integer n from the user."
   ]
  },
  {
   "cell_type": "code",
   "execution_count": 13,
   "id": "7e0af3e1-0362-4f38-acef-e6ac8b4a1274",
   "metadata": {},
   "outputs": [
    {
     "name": "stdin",
     "output_type": "stream",
     "text": [
      "Please enter the number of terms:  5\n"
     ]
    },
    {
     "name": "stdout",
     "output_type": "stream",
     "text": [
      "So for i = 1, term = -1...\n",
      "So for i = 2, term = 3...\n",
      "So for i = 3, term = -5...\n",
      "So for i = 4, term = 7...\n",
      "So for i = 5, term = -9...\n",
      "So total = -5\n",
      "End of the program...\n"
     ]
    }
   ],
   "source": [
    "n = int(input(\"Please enter the number of terms: \"))\n",
    "total = 0\n",
    "for i in range(1, n + 1):\n",
    "    term = ((-1) ** i) * (2 * i - 1)\n",
    "    print(f\"So for i = {i}, term = {term}...\")\n",
    "    total = total + term\n",
    "print(\"So total =\", total)\n",
    "print(\"End of the program...\")"
   ]
  },
  {
   "cell_type": "code",
   "execution_count": 14,
   "id": "a88159bb-7bdf-41f5-b553-ad7ff1b6fee6",
   "metadata": {},
   "outputs": [
    {
     "name": "stdin",
     "output_type": "stream",
     "text": [
      "Please enter the number of terms:  5\n"
     ]
    },
    {
     "name": "stdout",
     "output_type": "stream",
     "text": [
      "So total = -5\n",
      "End of the program...\n"
     ]
    }
   ],
   "source": [
    "# Optimization 1\n",
    "# Subtract the square of negative odd terms from the square of positive odd terms to get the alternating sum.\n",
    "\n",
    "n = int(input(\"Please enter the number of terms: \"))\n",
    "pos = n // 2\n",
    "neg = (n + 1) // 2\n",
    "total = pos ** 2 - neg ** 2\n",
    "print(\"So total =\", total)\n",
    "print(\"End of the program...\")"
   ]
  },
  {
   "cell_type": "raw",
   "id": "4a9feff1-44e7-4e61-86f1-abce8eed24a5",
   "metadata": {},
   "source": [
    "# Series Problem - 4\n",
    "     i =   1    2    3    4    5    6    7 ...\n",
    " total =   1! + 2! + 3! + 4! + 5! + 6! + 7! + \n",
    "\n",
    " Write a program in C++/Java/Python to print the first n terms of the series. Take integer n from the user."
   ]
  },
  {
   "cell_type": "code",
   "execution_count": 15,
   "id": "7f81d7b5-28d1-4088-9f0c-30a2190fea2e",
   "metadata": {},
   "outputs": [
    {
     "name": "stdin",
     "output_type": "stream",
     "text": [
      "Please enter the number of terms:  5\n"
     ]
    },
    {
     "name": "stdout",
     "output_type": "stream",
     "text": [
      "So for i = 1, term = 1...\n",
      "So for i = 2, term = 2...\n",
      "So for i = 3, term = 6...\n",
      "So for i = 4, term = 24...\n",
      "So for i = 5, term = 120...\n",
      "So total = 153\n",
      "End of the program...\n"
     ]
    }
   ],
   "source": [
    "# Logic - Sum the factorials of all numbers from 1 to n to get the total.\n",
    "\n",
    "n = int(input(\"Please enter the number of terms: \"))\n",
    "total = 0\n",
    "fact = 1\n",
    "for i in range(1, n + 1):\n",
    "    total = total + fact\n",
    "    print(f\"So for i = {i}, term = {fact}...\")\n",
    "    fact = fact * (i + 1)\n",
    "print(\"So total =\", total)\n",
    "print(\"End of the program...\")"
   ]
  },
  {
   "cell_type": "code",
   "execution_count": 16,
   "id": "f8bd87a6-5beb-45af-91f6-ab258ab154bb",
   "metadata": {},
   "outputs": [
    {
     "name": "stdin",
     "output_type": "stream",
     "text": [
      "Please enter the number of terms:  5\n"
     ]
    },
    {
     "name": "stdout",
     "output_type": "stream",
     "text": [
      "So total = 153\n",
      "End of the program...\n"
     ]
    }
   ],
   "source": [
    "# Optimization - 1\n",
    "\n",
    "n = int(input(\"Please enter the number of terms: \"))\n",
    "total = 0\n",
    "fact = 1\n",
    "for i in range(1, n + 1):\n",
    "    fact *= i\n",
    "    total += fact\n",
    "print(\"So total =\", total)\n",
    "print(\"End of the program...\")\n"
   ]
  },
  {
   "cell_type": "raw",
   "id": "dd7e3252-4064-4690-8468-af88d57afe75",
   "metadata": {},
   "source": [
    "# Series Problem - 5\n",
    "     i =   1    2    3    4    5     6     7 ...\n",
    " total =   1! + 3! + 5! + 7! + 9! + 11! + 13! + \n",
    "\n",
    " Write a program in C++/Java/Python to print the first n terms of the series. Take integer n from the user."
   ]
  },
  {
   "cell_type": "code",
   "execution_count": 17,
   "id": "44230674-4e8c-473e-8893-de34379be736",
   "metadata": {},
   "outputs": [
    {
     "name": "stdin",
     "output_type": "stream",
     "text": [
      "Please enter the number of terms:  5\n"
     ]
    },
    {
     "name": "stdout",
     "output_type": "stream",
     "text": [
      "So for i = 1, term = 1...\n",
      "So for i = 2, term = 6...\n",
      "So for i = 3, term = 120...\n",
      "So for i = 4, term = 5040...\n",
      "So for i = 5, term = 362880...\n",
      "So total = 368047\n",
      "End of the program...\n"
     ]
    }
   ],
   "source": [
    "# Logic - Sum the double factorial-like terms where each term is the product of consecutive odd numbers starting from 1, \n",
    "# computed as fact *= (2i)(2i + 1), to get the series total.\n",
    "\n",
    "n = int(input(\"Please enter the number of terms: \"))\n",
    "total = 0\n",
    "fact = 1\n",
    "for i in range(1, n + 1):\n",
    "    total = total + fact\n",
    "    print(f\"So for i = {i}, term = {fact}...\")\n",
    "    fact = fact * (2 * i) * (2 * i + 1)\n",
    "print(\"So total =\", total)\n",
    "print(\"End of the program...\")"
   ]
  },
  {
   "cell_type": "code",
   "execution_count": 18,
   "id": "aeae92d8-caf3-4ae1-b748-9d6b7072ad3c",
   "metadata": {},
   "outputs": [
    {
     "name": "stdin",
     "output_type": "stream",
     "text": [
      "Please enter the number of terms:  5\n"
     ]
    },
    {
     "name": "stdout",
     "output_type": "stream",
     "text": [
      "So total = 368047\n",
      "End of the program...\n"
     ]
    }
   ],
   "source": [
    "# Optimization - 1\n",
    "\n",
    "n = int(input(\"Please enter the number of terms: \"))\n",
    "total = 0\n",
    "fact = 1\n",
    "for i in range(1, n + 1):\n",
    "    total += fact\n",
    "    fact *= (2 * i) * (2 * i + 1)\n",
    "print(\"So total =\", total)\n",
    "print(\"End of the program...\")\n"
   ]
  },
  {
   "cell_type": "raw",
   "id": "a6837f19-17f6-41b4-8265-b9b34d4beb54",
   "metadata": {},
   "source": [
    "# Series Problem - 6\n",
    "     i =   1    2    3    4     5     6     7 ...\n",
    " total =   2! + 4! + 6! + 8! + 10! + 12! + 14! + \n",
    " Write a program in C++/Java/Python to print the first n terms of the series. Take integer n from the user."
   ]
  },
  {
   "cell_type": "code",
   "execution_count": 19,
   "id": "c5467763-0740-464a-920e-1caa93e0b583",
   "metadata": {},
   "outputs": [
    {
     "name": "stdin",
     "output_type": "stream",
     "text": [
      "Please enter the number of terms:  6\n"
     ]
    },
    {
     "name": "stdout",
     "output_type": "stream",
     "text": [
      "So for i = 1, term = 2...\n",
      "So for i = 2, term = 24...\n",
      "So for i = 3, term = 720...\n",
      "So for i = 4, term = 40320...\n",
      "So for i = 5, term = 3628800...\n",
      "So for i = 6, term = 479001600...\n",
      "So total = 482671466\n",
      "End of the program...\n"
     ]
    }
   ],
   "source": [
    "# Logic - Sum a series where each term is generated by multiplying the previous term with consecutive even and odd numbers starting from 3, \n",
    "# using the recurrence fact *= (2i + 1)(2i + 2)\n",
    "\n",
    "n = int(input(\"Please enter the number of terms: \"))\n",
    "total = 0\n",
    "fact = 2\n",
    "for i in range(1, n + 1):\n",
    "    total = total + fact\n",
    "    print(f\"So for i = {i}, term = {fact}...\")\n",
    "    fact = fact * (2 * i + 1) * (2 * i + 2)\n",
    "print(\"So total =\", total)\n",
    "print(\"End of the program...\")"
   ]
  },
  {
   "cell_type": "code",
   "execution_count": 20,
   "id": "cf4aef34-c54b-4651-a4e8-f6faa50a5435",
   "metadata": {},
   "outputs": [
    {
     "name": "stdin",
     "output_type": "stream",
     "text": [
      "Please enter the number of terms:  6\n"
     ]
    },
    {
     "name": "stdout",
     "output_type": "stream",
     "text": [
      "Total = 482671466\n"
     ]
    }
   ],
   "source": [
    "# Optimization - 1\n",
    "\n",
    "n = int(input(\"Please enter the number of terms: \"))\n",
    "total, fact = 0, 2\n",
    "for i in range(1, n + 1):\n",
    "    total += fact\n",
    "    fact *= (2 * i + 1) * (2 * i + 2)\n",
    "print(\"Total =\", total)\n"
   ]
  },
  {
   "cell_type": "raw",
   "id": "758f3197-877f-40c6-9f0d-696e7a571809",
   "metadata": {},
   "source": [
    "# Pattern problem - 1\n",
    "n = 6           i   .   *\n",
    "              -------------\n",
    ".....*          1   5   1      (i, n)\n",
    "....***         2   4   3 . => (n - i)\n",
    "...*****        3   3   5\n",
    "..*******       4   2   7 * => (2 * i - 1)\n",
    ".*********      5   1   9\n",
    "***********     6   0  11\n",
    "              -------------"
   ]
  },
  {
   "cell_type": "code",
   "execution_count": 21,
   "id": "bd51c15d-e87e-4521-89e7-6c9f2ff0b718",
   "metadata": {},
   "outputs": [
    {
     "name": "stdin",
     "output_type": "stream",
     "text": [
      "Please enter the number of layers:  8\n"
     ]
    },
    {
     "name": "stdout",
     "output_type": "stream",
     "text": [
      ".......*\n",
      "......***\n",
      ".....*****\n",
      "....*******\n",
      "...*********\n",
      "..***********\n",
      ".*************\n",
      "***************\n",
      "End of the program...\n"
     ]
    }
   ],
   "source": [
    "n = int(input(\"Please enter the number of layers: \"))\n",
    "for i in range(1, n + 1):\n",
    "    print(\".\" * (n - i) + \"*\" * (2 * i - 1))\n",
    "print(\"End of the program...\")"
   ]
  },
  {
   "cell_type": "raw",
   "id": "caf24ae8-6d57-44ee-be51-efb5c8fb0b6c",
   "metadata": {},
   "source": [
    "# Pattern problem - 2\n",
    "n = 6           i   .   *\n",
    "              -------------\n",
    "***********     1   0  11      (i, n)\n",
    ".*********      2   1   9 . => (i - 1)\n",
    "..*******       3   2   7\n",
    "...*****        4   3   5 * => (2 * (n - i) + 1)\n",
    "....***         5   4   3\n",
    ".....*          6   5   1\n",
    "              -------------"
   ]
  },
  {
   "cell_type": "code",
   "execution_count": 22,
   "id": "c2ed6585-8a03-43b3-9532-248b7f6909ba",
   "metadata": {},
   "outputs": [
    {
     "name": "stdin",
     "output_type": "stream",
     "text": [
      "Please enter the number of layers:  8\n"
     ]
    },
    {
     "name": "stdout",
     "output_type": "stream",
     "text": [
      "***************\n",
      ".*************\n",
      "..***********\n",
      "...*********\n",
      "....*******\n",
      ".....*****\n",
      "......***\n",
      ".......*\n",
      "End of the program...\n"
     ]
    }
   ],
   "source": [
    "n = int(input(\"Please enter the number of layers: \"))\n",
    "for i in range(1, n + 1):\n",
    "    print(\".\" * (i - 1) + \"*\" * (2 * (n - i) + 1))\n",
    "print(\"End of the program...\")"
   ]
  },
  {
   "cell_type": "raw",
   "id": "16856fef-2759-4dbb-a4c9-7ce34086c37d",
   "metadata": {},
   "source": [
    "# Pattern problem - 3\n",
    "n = 11 (ODD)    i   .   *   m = (n + 1) // 2 = 6\n",
    "              -------------\n",
    ".....*          1   5   1      (i, n, m)\n",
    "....***         2   4   3 . => (m - i)\n",
    "...*****        3   3   5\n",
    "..*******       4   2   7 * => (2 * i - 1)\n",
    ".*********      5   1   9\n",
    "***********   __6___0__11__\n",
    ".*********      7   1   9\n",
    "..*******       8   2   7 . => (i - m)\n",
    "...*****        9   3   5\n",
    "....***        10   4   3 * => (2 * (n - i) + 1)\n",
    ".....*         11   5   1\n",
    "              -------------"
   ]
  },
  {
   "cell_type": "code",
   "execution_count": 23,
   "id": "32fb1a6a-58f8-4939-ac1a-4e04e9e6bd86",
   "metadata": {},
   "outputs": [
    {
     "name": "stdin",
     "output_type": "stream",
     "text": [
      "Please enter the ODD number of layers:  8\n",
      "Please enter the ODD number of layers:  9\n"
     ]
    },
    {
     "name": "stdout",
     "output_type": "stream",
     "text": [
      "....*\n",
      "...***\n",
      "..*****\n",
      ".*******\n",
      "*********\n",
      ".*******\n",
      "..*****\n",
      "...***\n",
      "....*\n",
      "End of the program...\n"
     ]
    }
   ],
   "source": [
    "while(True):\n",
    "    n = int(input(\"Please enter the ODD number of layers: \"))\n",
    "    if (n % 2 == 1): break\n",
    "m = (n + 1) // 2\n",
    "for i in range(1, n + 1):\n",
    "    if (i <= m): b = (m - i); s = (2 * i - 1)\n",
    "    else: b = (i - m); s = (2 * (n - i) + 1)\n",
    "    print(\".\" * b + \"*\" * s)\n",
    "print(\"End of the program...\")"
   ]
  },
  {
   "cell_type": "code",
   "execution_count": null,
   "id": "e1bc82c6-6237-4c37-a11a-773a23666d1d",
   "metadata": {},
   "outputs": [],
   "source": [
    "# Pattern problem - 4\n",
    "n = 11 (ODD)    i   .   *   m = (n + 1) // 2 = 6\n",
    "              -------------\n",
    "***********     1   0  11      (i, n, m)\n",
    ".*********      2   1   9 . => (i - 1)\n",
    "..*******       3   2   7\n",
    "...*****        4   3   5 * => (2 * (m - i) + 1)\n",
    "....***         5   4   3\n",
    ".....*        __6___5___1__\n",
    "....***         7   4   3\n",
    "...*****        8   3   5 . => (n - i)\n",
    "..*******       9   2   7\n",
    ".*********     10   1   9 * => (2 * (i - m) + 1)\n",
    "***********    11   0  11\n",
    "              -------------"
   ]
  },
  {
   "cell_type": "code",
   "execution_count": null,
   "id": "ffccb214-e1bb-412b-9530-936027d4b3dd",
   "metadata": {},
   "outputs": [],
   "source": []
  },
  {
   "cell_type": "code",
   "execution_count": null,
   "id": "77de8523-a5cf-4209-b4ca-abf531e3dee2",
   "metadata": {},
   "outputs": [],
   "source": []
  }
 ],
 "metadata": {
  "kernelspec": {
   "display_name": "Python 3 (ipykernel)",
   "language": "python",
   "name": "python3"
  },
  "language_info": {
   "codemirror_mode": {
    "name": "ipython",
    "version": 3
   },
   "file_extension": ".py",
   "mimetype": "text/x-python",
   "name": "python",
   "nbconvert_exporter": "python",
   "pygments_lexer": "ipython3",
   "version": "3.11.7"
  }
 },
 "nbformat": 4,
 "nbformat_minor": 5
}
