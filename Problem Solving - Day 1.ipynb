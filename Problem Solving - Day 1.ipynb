{
 "cells": [
  {
   "cell_type": "markdown",
   "id": "bb93afb1-1a5c-4362-8030-879277eda23c",
   "metadata": {},
   "source": [
    "# Problem Solving with Python"
   ]
  },
  {
   "cell_type": "code",
   "execution_count": 8,
   "id": "83eeb739-e6bf-4c42-afc6-7abcec55aff2",
   "metadata": {},
   "outputs": [
    {
     "name": "stdin",
     "output_type": "stream",
     "text": [
      "Enter the number of terms 5\n"
     ]
    },
    {
     "name": "stdout",
     "output_type": "stream",
     "text": [
      "For i = 1, term = 1 and total = 1 ...\n",
      "For i = 2, term = -3 and total = -2 ...\n",
      "For i = 3, term = 5 and total = 3 ...\n",
      "For i = 4, term = -7 and total = -4 ...\n",
      "For i = 5, term = 9 and total = 5 ...\n",
      "so total of first 5 terms of the th series is 5...\n",
      "End of the program...\n"
     ]
    }
   ],
   "source": [
    "# Series Problem - 1\n",
    "# position 1  2   3   4   5   6     7 ..\n",
    "# total = 1 - 3 + 5 - 7 + 9 - 11 + 13 ... n terms\n",
    "\n",
    "n = int(input(\"Enter the number of terms\"))\n",
    "total = 0\n",
    "for i in range(1, n + 1):\n",
    "    term = ((-1) ** (i + 1)) * (2 * i - 1)\n",
    "    total = total + term\n",
    "    print(f\"For i = {i}, term = {term} and total = {total} ...\")\n",
    "print(f\"so total of first {n} terms of the th series is {total}...\")\n",
    "print(\"End of the program...\")"
   ]
  },
  {
   "cell_type": "code",
   "execution_count": 14,
   "id": "79f382e4-f3ef-43b4-ac83-9aa2fb20aaa3",
   "metadata": {},
   "outputs": [
    {
     "name": "stdin",
     "output_type": "stream",
     "text": [
      "Please enter the number of terms:  7\n"
     ]
    },
    {
     "name": "stdout",
     "output_type": "stream",
     "text": [
      "For i = 1, term = -2 and total = -2...\n",
      "For i = 2, term = 4 and total = 2...\n",
      "For i = 3, term = -6 and total = -4...\n",
      "For i = 4, term = 8 and total = 4...\n",
      "For i = 5, term = -10 and total = -6...\n",
      "For i = 6, term = 12 and total = 6...\n",
      "For i = 7, term = -14 and total = -8...\n",
      "\n",
      "So the total of first 7 terms of the series is -8...\n",
      "End of the program...\n"
     ]
    }
   ],
   "source": [
    "# Series Problem-2\n",
    "# position   1   2   3   4   5    6    7\n",
    "# total  = - 2 + 4 - 6 + 8 - 10 + 12 - 14 - ... n terms\n",
    "n = int(input(\"Please enter the number of terms: \"))\n",
    "total = 0\n",
    "for i in range(1, n + 1):\n",
    "    term = ((-1) ** i) * (2 * i)\n",
    "    total += term  \n",
    "    print(f\"For i = {i}, term = {term} and total = {total}...\")\n",
    "print(f\"\\nSo the total of first {n} terms of the series is {total}...\")\n",
    "print(\"End of the program...\")"
   ]
  },
  {
   "cell_type": "code",
   "execution_count": 16,
   "id": "3b5d244f-37f6-4be6-8c06-cb0bca0a1764",
   "metadata": {},
   "outputs": [
    {
     "name": "stdin",
     "output_type": "stream",
     "text": [
      "Please enter the number of terms: 8\n"
     ]
    },
    {
     "name": "stdout",
     "output_type": "stream",
     "text": [
      "For i = 1, factorial = 2 and total = 2...\n",
      "For i = 2, factorial = 24 and total = 26...\n",
      "For i = 3, factorial = 720 and total = 746...\n",
      "For i = 4, factorial = 40320 and total = 41066...\n",
      "For i = 5, factorial = 3628800 and total = 3669866...\n",
      "For i = 6, factorial = 479001600 and total = 482671466...\n",
      "For i = 7, factorial = 87178291200 and total = 87660962666...\n",
      "For i = 8, factorial = 20922789888000 and total = 21010450850666...\n",
      "So the total of first 8 terms of the series is 21010450850666...\n",
      "End of the program...\n"
     ]
    }
   ],
   "source": [
    "# Series Problem-3\n",
    "# position   1    2    3    4    5     6     7\n",
    "# total  =   2! + 4! + 6! + 8! + 10! + 12! + 14! + ... n terms\n",
    "n = int(input(\"Please enter the number of terms:\"))\n",
    "total = 0\n",
    "factorial = 2 \n",
    "for i in range(1, n + 1):\n",
    "    total = total + factorial\n",
    "    print(f\"For i = {i}, factorial = {factorial} and total = {total}...\")\n",
    "    factorial = factorial * (2 * i + 1) * (2 * i + 2)\n",
    "print(f\"So the total of first {n} terms of the series is {total}...\")\n",
    "print(\"End of the program...\")"
   ]
  },
  {
   "cell_type": "code",
   "execution_count": 23,
   "id": "e55a6427-06e4-4850-9261-a4e0aa0adf87",
   "metadata": {},
   "outputs": [
    {
     "name": "stdin",
     "output_type": "stream",
     "text": [
      "Please enter the number of terms: 10\n"
     ]
    },
    {
     "name": "stdout",
     "output_type": "stream",
     "text": [
      "So the total of first 10 terms of the series is 72...\n",
      "End of the program...\n"
     ]
    }
   ],
   "source": [
    "# Series Problem-4\n",
    "# position   1   2   3   4   5    6   7   8   9   10   11  12\n",
    "# total  =   1 + 2 + 3 + 4 + 10 + 5 + 6 + 7 + 8 + 26 + 9 + 10 + ... n terms\n",
    "n = int(input(\"Please enter the number of terms:\"))\n",
    "total = 0\n",
    "last_term = 4 * (n // 5)\n",
    "extra_terms = n % 5\n",
    "total = total + last_term * (last_term + 1)\n",
    "total = total + last_term * extra_terms + extra_terms * (extra_terms + 1) // 2\n",
    "print(f\"So the total of first {n} terms of the series is {total}...\")\n",
    "print(\"End of the program...\")"
   ]
  },
  {
   "cell_type": "code",
   "execution_count": 32,
   "id": "b64b8e46-c952-47c4-a657-10a80be1477d",
   "metadata": {},
   "outputs": [
    {
     "name": "stdin",
     "output_type": "stream",
     "text": [
      "Please enter the number of terms:  5\n"
     ]
    },
    {
     "name": "stdout",
     "output_type": "stream",
     "text": [
      "For i = 1, term = 4 and total = 4...\n",
      "For i = 2, term = 7 and total = 11...\n",
      "For i = 3, term = 4 and total = 15...\n",
      "For i = 4, term = 7 and total = 22...\n",
      "For i = 5, term = 4 and total = 26...\n",
      "So the total of the first 5 terms of the series is 26...\n",
      "End of the program...\n"
     ]
    }
   ],
   "source": [
    "# Series Problem - 5\n",
    "#     i =   1   2   3   4   5   6   7 ...\n",
    "# total =   4 + 7 + 4 + 7 + 4 + 7 + 4 + \n",
    "n = int(input(\"Please enter the number of terms: \"))\n",
    "term = 4\n",
    "total = 0\n",
    "for i in range(1, n + 1):\n",
    "    total = total + term\n",
    "    print(f\"For i = {i}, term = {term} and total = {total}...\")\n",
    "    # if term == 4: term = 7\n",
    "    # else: term = 4\n",
    "    # term = 11 - term\n",
    "    # term = 28 // term\n",
    "    # term = (term * 2 - 1) % 9\n",
    "    # term = term + ((-1) ** (i + 1)) * 3\n",
    "    # term = int(5.5 + ((-1) ** (i + 1)) * 1.5)\n",
    "    # term = 4 if (total % 11 == 0) else 7\n",
    "    # term = term ^ 3\n",
    "    term = (lambda term:{4:7, 7:4}.get(term))(term)\n",
    "print(f\"So the total of the first {n} terms of the series is {total}...\")\n",
    "print(\"End of the program...\")"
   ]
  },
  {
   "cell_type": "code",
   "execution_count": null,
   "id": "e946dbf5-766f-4c22-b784-1f4d3bd0f0c0",
   "metadata": {},
   "outputs": [],
   "source": [
    "Boolean Identities:\n",
    "-------------------\n",
    "a and 0 = 0, a and 1 = a, a and a = a, a and a' = 0\n",
    "a or 0 = a, a or 1 = 1, a or a = a, a or a' = 1\n",
    "a xor 0 = a, a and 1 = a', a xor a = 0, a and a' = 1\n",
    "\n",
    "4 = 100\n",
    "xor 011 => 3\n",
    "    ---\n",
    "7 = 111"
   ]
  },
  {
   "cell_type": "code",
   "execution_count": null,
   "id": "770642e8-4c38-4188-b6d9-1c814e6dc8f7",
   "metadata": {},
   "outputs": [],
   "source": [
    "# Pattern Problem - 1\n",
    "n = 11 (User given ODD integer number)\n",
    "\n",
    ".....*          \n",
    "....***         \n",
    "...*****        \n",
    "..*******       \n",
    ".*********      \n",
    "***********   \n",
    ".*********      \n",
    "..*******       \n",
    "...*****        \n",
    "....***        \n",
    ".....*   \n",
    "Generate this pattern using only 1 loop"
   ]
  },
  {
   "cell_type": "markdown",
   "id": "77616e9b-a623-4936-9e34-3a8fb9c4d547",
   "metadata": {},
   "source": [
    "## Tracing Table for Pattern - 1"
   ]
  },
  {
   "cell_type": "code",
   "execution_count": null,
   "id": "dfd1ea42-d599-4a1d-adc7-58c4a68ab0e8",
   "metadata": {},
   "outputs": [],
   "source": [
    "n = 11 (ODD)    i   .   *   m = (n + 1) // 2 = 6\n",
    "              -------------\n",
    ".....*          1   5   1      (i, n, m)\n",
    "....***         2   4   3 . => (m - i)\n",
    "...*****        3   3   5\n",
    "..*******       4   2   7 * => (2 * i - 1)\n",
    ".*********      5   1   9\n",
    "***********   __6___0__11__\n",
    ".*********      7   1   9\n",
    "..*******       8   2   7 . => (i - m)\n",
    "...*****        9   3   5\n",
    "....***        10   4   3 * => (2 * (n - i) + 1)\n",
    ".....*         11   5   1\n",
    "              -------------"
   ]
  },
  {
   "cell_type": "code",
   "execution_count": 34,
   "id": "b410c5af-db46-43eb-a1c1-9fe7929b1a2b",
   "metadata": {},
   "outputs": [
    {
     "name": "stdin",
     "output_type": "stream",
     "text": [
      "Please enter the ODD number of layers: 11\n"
     ]
    },
    {
     "name": "stdout",
     "output_type": "stream",
     "text": [
      ".....*\n",
      "....***\n",
      "...*****\n",
      "..*******\n",
      ".*********\n",
      "***********\n",
      ".*********\n",
      "..*******\n",
      "...*****\n",
      "....***\n",
      ".....*\n",
      "End of the program...\n"
     ]
    }
   ],
   "source": [
    "while(True):\n",
    "    n = int(input(\"Please enter the ODD number of layers:\"))\n",
    "    if n % 2 == 1:\n",
    "        break\n",
    "m = (n + 1) // 2\n",
    "for i in range(1, n + 1):\n",
    "    if (i <= m):\n",
    "        b = (m - i)\n",
    "        s = (2 * i - 1)\n",
    "    else:\n",
    "        b = (i - m)\n",
    "        s = (2 * (n - i) + 1)\n",
    "    print(\".\" * b + \"*\" * s)\n",
    "print(\"End of the program...\")"
   ]
  },
  {
   "cell_type": "code",
   "execution_count": null,
   "id": "69e9e2b9-e137-463b-b698-023c4c36c079",
   "metadata": {},
   "outputs": [],
   "source": [
    "# Pattern Problem-2\n",
    "n = 11 (User given ODD integer number)    \n",
    "                                \n",
    ".....*             \n",
    "....*.*            \n",
    "...*...*           \n",
    "..*.....*          \n",
    ".*.......*         \n",
    "*.........*       \n",
    ".*.......*         \n",
    "..*.....*          \n",
    "...*...*           \n",
    "....*.*           \n",
    ".....*            \n",
    "                  \n",
    "Generate this pattern using a single loop construct for any odd value for n."
   ]
  },
  {
   "cell_type": "markdown",
   "id": "abd2dcef-0306-41f0-a342-e5af261bb2fb",
   "metadata": {},
   "source": [
    "## Tracing Table for Pattern - 2"
   ]
  },
  {
   "cell_type": "code",
   "execution_count": null,
   "id": "56f8545d-0f65-4287-9194-bf85b046100e",
   "metadata": {},
   "outputs": [],
   "source": [
    "n = 11 (ODD)    i   .1  .2   m = (n + 1) // 2 = 6\n",
    "              -------------\n",
    ".....*          1   5   NA      (i, n, m)\n",
    "....*.*         2   4   1 .1 => (m - i)\n",
    "...*...*        3   3   3\n",
    "..*.....*       4   2   5 .2 => (2 * i - 3)\n",
    ".*.......*      5   1   7\n",
    "*.........*   __6___0___9__\n",
    ".*.......*      7   1   7\n",
    "..*.....*       8   2   5 .1 => (i - m)\n",
    "...*...*        9   3   3\n",
    "....*.*        10   4   1 .2 => (2 * (n - i) - 1)\n",
    ".....*         11   5   NA\n",
    "              -------------"
   ]
  },
  {
   "cell_type": "code",
   "execution_count": 38,
   "id": "c6a9c726-7629-451b-be34-c06fce08b036",
   "metadata": {},
   "outputs": [
    {
     "name": "stdin",
     "output_type": "stream",
     "text": [
      "Please enter the ODD number of layers:  11\n"
     ]
    },
    {
     "name": "stdout",
     "output_type": "stream",
     "text": [
      ".....*\n",
      "....*.*\n",
      "...*...*\n",
      "..*.....*\n",
      ".*.......*\n",
      "*.........*\n",
      ".*.......*\n",
      "..*.....*\n",
      "...*...*\n",
      "....*.*\n",
      ".....*\n",
      "End of the program...\n"
     ]
    }
   ],
   "source": [
    "while(True):\n",
    "    n = int(input(\"Please enter the ODD number of layers: \"))\n",
    "    if (n % 2 == 1): break\n",
    "m = (n + 1) // 2\n",
    "for i in range(1, n + 1):\n",
    "    if (i <= m): \n",
    "        b1 = (m - i)\n",
    "        b2 = (2 * i - 3)\n",
    "    else: \n",
    "        b1 = (i - m)\n",
    "        b2 = (2 * (n - i) - 1)\n",
    "    print(\".\" * b1 + \"*\", end = \"\")\n",
    "    if (i != 1 and i != n):\n",
    "        print(\".\" * b2 + \"*\")\n",
    "    else:\n",
    "        print()\n",
    "print(\"End of the program...\")"
   ]
  },
  {
   "cell_type": "code",
   "execution_count": null,
   "id": "0b1cfab7-1d7f-41f1-9e2a-b1dd50dd1924",
   "metadata": {},
   "outputs": [],
   "source": [
    "# Pattern Problem-3\n",
    "n = 11 (User given ODD integer number)    m = (n + 1) // 2 = 6\n",
    "                   \n",
    "                 \n",
    "AAAAAAAAAAA        \n",
    ".BBBBBBBBB         \n",
    "..CCCCCCC          \n",
    "...DDDDD           \n",
    "....EEE          \n",
    ".....F            \n",
    "....GGG             \n",
    "...HHHHH           \n",
    "..IIIIIII          \n",
    ".JJJJJJJJJ        \n",
    "KKKKKKKKKKK       \n",
    "                  "
   ]
  },
  {
   "cell_type": "markdown",
   "id": "55d263cf-9e8a-441e-aa69-0cd2ace332d1",
   "metadata": {},
   "source": [
    "## Tracing Table for Pattern - 3"
   ]
  },
  {
   "cell_type": "code",
   "execution_count": null,
   "id": "394cfacf-4da8-4450-b9fb-a8560a98bed3",
   "metadata": {},
   "outputs": [],
   "source": [
    "n = 11 (User given ODD integer number)    m = (n + 1) // 2 = 6\n",
    "                   i   .   ch\n",
    "                  -----------\n",
    "AAAAAAAAAAA        1   0  11       (i, m, n)\n",
    ".BBBBBBBBB         2   1   9  . => (i - 1)\n",
    "..CCCCCCC          3   2   7\n",
    "...DDDDD           4   3   5  ch => (2 * (m - i) + 1)\n",
    "....EEE            5   4   3\n",
    ".....F            _6___5___1_ \n",
    "....GGG            7   4   3\n",
    "...HHHHH           8   3   5  . => (n - i)\n",
    "..IIIIIII          9   2   7\n",
    ".JJJJJJJJJ        10   1   9  ch => (2 * (i - m) + 1)\n",
    "KKKKKKKKKKK       11   0  11\n",
    "                  -----------"
   ]
  },
  {
   "cell_type": "code",
   "execution_count": 43,
   "id": "54bdb5c0-8e98-41ba-b147-11e51dd2948d",
   "metadata": {},
   "outputs": [
    {
     "name": "stdin",
     "output_type": "stream",
     "text": [
      "Please enter the ODD number of layers:  11\n"
     ]
    },
    {
     "name": "stdout",
     "output_type": "stream",
     "text": [
      "AAAAAAAAAAA\n",
      ".BBBBBBBBB\n",
      "..CCCCCCC\n",
      "...DDDDD\n",
      "....EEE\n",
      ".....F\n",
      "....GGG\n",
      "...HHHHH\n",
      "..IIIIIII\n",
      ".JJJJJJJJJ\n",
      "KKKKKKKKKKK\n",
      "End of the program...\n"
     ]
    }
   ],
   "source": [
    "while True:\n",
    "    n = int(input(\"Please enter the ODD number of layers: \"))\n",
    "    if n % 2 == 1:\n",
    "        break\n",
    "m = (n + 1) // 2 \n",
    "for i in range(1, n + 1):\n",
    "    if i <= m:\n",
    "        dots = i - 1\n",
    "        chars = n - 2 * (i - 1)\n",
    "    else:\n",
    "        dots = n - i\n",
    "        chars = 2 * (i - m) + 1\n",
    "    ch = chr(64 + i)  \n",
    "    print(\".\" * dots + ch * chars)\n",
    "print(\"End of the program...\")"
   ]
  },
  {
   "cell_type": "code",
   "execution_count": null,
   "id": "2b4624e9-7801-46e1-9031-e39a23021615",
   "metadata": {},
   "outputs": [],
   "source": []
  },
  {
   "cell_type": "code",
   "execution_count": null,
   "id": "90a9e3d5-ff43-454a-93c7-19b7ec8d4458",
   "metadata": {},
   "outputs": [],
   "source": []
  },
  {
   "cell_type": "code",
   "execution_count": null,
   "id": "31e0f466-a48c-467c-816c-e059ef5f84b1",
   "metadata": {},
   "outputs": [],
   "source": []
  },
  {
   "cell_type": "code",
   "execution_count": null,
   "id": "c8c1397c-09d3-436c-bc1b-f5e2d96984db",
   "metadata": {},
   "outputs": [],
   "source": []
  },
  {
   "cell_type": "code",
   "execution_count": null,
   "id": "329c1193-06ff-48be-ac41-99a5aefb8a7c",
   "metadata": {},
   "outputs": [],
   "source": []
  },
  {
   "cell_type": "code",
   "execution_count": null,
   "id": "6be606a6-21c3-4fac-9c39-4e396a07dc55",
   "metadata": {},
   "outputs": [],
   "source": []
  }
 ],
 "metadata": {
  "kernelspec": {
   "display_name": "Python 3 (ipykernel)",
   "language": "python",
   "name": "python3"
  },
  "language_info": {
   "codemirror_mode": {
    "name": "ipython",
    "version": 3
   },
   "file_extension": ".py",
   "mimetype": "text/x-python",
   "name": "python",
   "nbconvert_exporter": "python",
   "pygments_lexer": "ipython3",
   "version": "3.11.7"
  }
 },
 "nbformat": 4,
 "nbformat_minor": 5
}
