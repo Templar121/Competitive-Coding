{
 "cells": [
  {
   "cell_type": "markdown",
   "id": "41e6cc2a-4262-4c8a-8063-03acba5941f5",
   "metadata": {},
   "source": [
    "# Problem Solving with Python"
   ]
  },
  {
   "cell_type": "raw",
   "id": "e366f9d2-fb3b-4ffe-95dd-58c4a5ec691d",
   "metadata": {},
   "source": [
    "# Series problem 1\n",
    "Find the sum of the first n terms of the following series:\n",
    "\n",
    "term# -> 1   2   3   4   5    6   7   8   9   10   11  12   13   14 + ...\n",
    "total =  1 + 2 + 3 + 4 + 10 + 5 + 6 + 7 + 8 + 26 + 9 + 10 + 11 + 12 + ... n terms\n",
    "\n",
    "What is the 99th term of the series?\n",
    "Test the code with following test cases:\n",
    "if n = 5, total = 20\n",
    "if n = 11, total = 81\n",
    "if n = 12, total = 91"
   ]
  },
  {
   "cell_type": "code",
   "execution_count": 5,
   "id": "6fd24aef-9bd2-456f-b122-79a4e642a681",
   "metadata": {},
   "outputs": [
    {
     "name": "stdin",
     "output_type": "stream",
     "text": [
      "Enter the number of terms: 12\n"
     ]
    },
    {
     "name": "stdout",
     "output_type": "stream",
     "text": [
      "For i = 1, adding next term = 1\n",
      "For i = 2, adding next term = 2\n",
      "For i = 3, adding next term = 3\n",
      "For i = 4, adding next term = 4\n",
      "For i = 5 adding tsum = 10\n",
      "For i = 6, adding next term = 5\n",
      "For i = 7, adding next term = 6\n",
      "For i = 8, adding next term = 7\n",
      "For i = 9, adding next term = 8\n",
      "For i = 10 adding tsum = 26\n",
      "For i = 11, adding next term = 9\n",
      "For i = 12, adding next term = 10\n",
      "Total of the Series is 91\n",
      "End of Program\n"
     ]
    }
   ],
   "source": [
    "# Logic - Add the next number to the total unless the position is a multiple of 5, in which case add the sum of the last group instead.\n",
    "\n",
    "n = int(input(\"Enter the number of terms:\"))\n",
    "fsum = tsum = 0\n",
    "term = 1\n",
    "\n",
    "for i in range(1, n + 1):\n",
    "    if i % 5 == 0:\n",
    "        fsum += tsum\n",
    "        print(f\"For i = {i} adding tsum = {tsum}\")\n",
    "        tsum = 0\n",
    "    else:\n",
    "        fsum += term\n",
    "        print(f\"For i = {i}, adding next term = {term}\")\n",
    "        tsum += term\n",
    "        term += 1\n",
    "print(\"Total of the Series is\", fsum)\n",
    "print(\"End of Program\")"
   ]
  },
  {
   "cell_type": "code",
   "execution_count": 8,
   "id": "f9a8f1cc-90db-4318-8246-9745ef2f7594",
   "metadata": {},
   "outputs": [
    {
     "name": "stdin",
     "output_type": "stream",
     "text": [
      "Enter the number of terms 12\n"
     ]
    },
    {
     "name": "stdout",
     "output_type": "stream",
     "text": [
      "8 2\n",
      "72\n",
      "91\n",
      "106\n"
     ]
    }
   ],
   "source": [
    "#Optimization - 1\n",
    "# Compute the total by summing all terms in groups of 4 (with each 5th term being the sum of the previous 4), \n",
    "# and adding the remaining terms based on arithmetic progression after the last full group\n",
    "\n",
    "n = int(input(\"Enter the number of terms\"))\n",
    "last_term = 4 * (n // 5)\n",
    "extra_terms = n % 5\n",
    "total = 0\n",
    "print(last_term, extra_terms)\n",
    "total = total + last_term * (last_term + 1)\n",
    "print(total)\n",
    "total = total + last_term * extra_terms + extra_terms * (extra_terms + 1) // 2\n",
    "print(total)\n",
    "print(eval(\"1 + 2 + 3 + 4 + 10 + 5 + 6 + 7 + 26 + 9 + 10 + 11 + 12\"))"
   ]
  },
  {
   "cell_type": "code",
   "execution_count": 10,
   "id": "0f7c56fc-f775-4957-bf25-e78f42f662da",
   "metadata": {},
   "outputs": [
    {
     "data": {
      "text/plain": [
       "91"
      ]
     },
     "execution_count": 10,
     "metadata": {},
     "output_type": "execute_result"
    }
   ],
   "source": [
    "# Optimization 2 \n",
    "\n",
    "def compute_series_sum(n):\n",
    "    k = n // 5\n",
    "    r = n % 5\n",
    "    return 4*k*(4*k + 1) + 4*k*r + r*(r + 1)//2\n",
    "\n",
    "compute_series_sum(12)"
   ]
  },
  {
   "cell_type": "raw",
   "id": "c4bd5e31-3c42-473e-be25-daafdd03fadb",
   "metadata": {},
   "source": [
    " Series Problem - 2\n",
    "     i = 1   2   3   4   5   6    7    8    9    10 ...\n",
    " total = 1 - 3 + 5 - 7 + 9 - 11 + 13 - 15 + 17 - 19 + ...\n",
    " Write a program in C++/Java/Python to print the first n terms of the series. Take integer n from the user."
   ]
  },
  {
   "cell_type": "code",
   "execution_count": 11,
   "id": "c211d1e2-32d6-415d-b0ed-98ed6de5f7de",
   "metadata": {},
   "outputs": [
    {
     "name": "stdin",
     "output_type": "stream",
     "text": [
      "Please enter the number of terms:  5\n"
     ]
    },
    {
     "name": "stdout",
     "output_type": "stream",
     "text": [
      "So for i = 1, term = 1...\n",
      "So for i = 2, term = -3...\n",
      "So for i = 3, term = 5...\n",
      "So for i = 4, term = -7...\n",
      "So for i = 5, term = 9...\n",
      "So total = 5\n",
      "End of the program...\n"
     ]
    }
   ],
   "source": [
    "n = int(input(\"Please enter the number of terms: \"))\n",
    "total = 0\n",
    "for i in range(1, n + 1):\n",
    "    term = ((-1) ** (i + 1)) * (2 * i - 1)\n",
    "    print(f\"So for i = {i}, term = {term}...\")\n",
    "    total = total + term\n",
    "print(\"So total =\", total)\n",
    "print(\"End of the program...\")"
   ]
  },
  {
   "cell_type": "code",
   "execution_count": 12,
   "id": "3ce9dfe0-08a0-418f-a4ec-b536c56f1db1",
   "metadata": {},
   "outputs": [
    {
     "data": {
      "text/plain": [
       "5"
      ]
     },
     "execution_count": 12,
     "metadata": {},
     "output_type": "execute_result"
    }
   ],
   "source": [
    "# Optimization 1\n",
    "# The sum is the difference of squares of counts of positive and negative odd terms\n",
    "\n",
    "def compute_alternating_odd_sum(n):\n",
    "    pos = (n + 1) // 2\n",
    "    neg = n // 2\n",
    "    return pos**2 - neg**2\n",
    "\n",
    "compute_alternating_odd_sum(5)"
   ]
  },
  {
   "cell_type": "code",
   "execution_count": null,
   "id": "a9dba362-6c47-4ac5-be75-9afe06d32d12",
   "metadata": {},
   "outputs": [],
   "source": []
  }
 ],
 "metadata": {
  "kernelspec": {
   "display_name": "Python 3 (ipykernel)",
   "language": "python",
   "name": "python3"
  },
  "language_info": {
   "codemirror_mode": {
    "name": "ipython",
    "version": 3
   },
   "file_extension": ".py",
   "mimetype": "text/x-python",
   "name": "python",
   "nbconvert_exporter": "python",
   "pygments_lexer": "ipython3",
   "version": "3.11.7"
  }
 },
 "nbformat": 4,
 "nbformat_minor": 5
}
