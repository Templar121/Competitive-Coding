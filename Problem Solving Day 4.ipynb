{
 "cells": [
  {
   "cell_type": "markdown",
   "id": "d17a564c-b0c9-4f8b-bf81-88c356169b0e",
   "metadata": {},
   "source": [
    "# Dynamic programming\n",
    "Dynamic programming is a technique that combines the correctness of complete search and the efficiency of greedy algorithms. Dynamic programming is applied if the problem can be divided into overlapping sub-problems that can be solved independently.\n",
    "\n",
    "There are two uses for Dynamic Programming:\n",
    "\n",
    "1. Finding an Optimal Solution: We want to find a solution that is as large as possible or as small as possible.\n",
    "2. "
   ]
  },
  {
   "cell_type": "code",
   "execution_count": 2,
   "id": "8e87e5f4-3d2d-4ba3-b80d-e650a42f818a",
   "metadata": {},
   "outputs": [
    {
     "data": {
      "text/plain": [
       "8"
      ]
     },
     "execution_count": 2,
     "metadata": {},
     "output_type": "execute_result"
    }
   ],
   "source": [
    "# term no.:         0 1 2 3 4 5 6 7  8  9\n",
    "# Fibonacci Series: 0 1 1 2 3 5 8 13 21 34\n",
    "# Probelm is to find the N-th term of the fibonacci series.\n",
    "# recursive calls require stack, enhancing both time complexity (exoponential) and space complexity (extra stack space O(n)) complexity would be there.\n",
    "\n",
    "def fibonacciRecursive(n):\n",
    "    if (n == 0 or n == 1): return n\n",
    "    ans = fibonacciRecursive(n - 1) + fibonacciRecursive(n - 2)\n",
    "    return ans\n",
    "\n",
    "fibonacciRecursive(5)\n",
    "fibonacciRecursive(6)"
   ]
  },
  {
   "cell_type": "code",
   "execution_count": 6,
   "id": "e5f75c42-d10a-4c22-91e3-518f325a8ec6",
   "metadata": {},
   "outputs": [
    {
     "name": "stdin",
     "output_type": "stream",
     "text": [
      "Please Enter the Value for n: 5\n"
     ]
    },
    {
     "name": "stdout",
     "output_type": "stream",
     "text": [
      "[0, 0, 0, 0, 0, 0]\n",
      "Calling for n = 5... [0, 0, 0, 0, 0, 0]\n",
      "Calling for n = 4... [0, 0, 0, 0, 0, 0]\n",
      "Calling for n = 3... [0, 0, 0, 0, 0, 0]\n",
      "Calling for n = 2... [0, 0, 0, 0, 0, 0]\n",
      "Calling for n = 1... [0, 0, 0, 0, 0, 0]\n",
      "Calling for n = 0... [0, 0, 0, 0, 0, 0]\n",
      "Calling for n = 1... [0, 0, 1, 0, 0, 0]\n",
      "Calling for n = 2... [0, 0, 1, 2, 0, 0]\n",
      "Calling for n = 3... [0, 0, 1, 2, 3, 0]\n",
      "5\n"
     ]
    }
   ],
   "source": [
    "# term no.:         0 1 2 3 4 5 6 7  8  9\n",
    "# Fibonacci Series: 0 1 1 2 3 5 8 13 21 34\n",
    "# Probelm is to find the N-th term of the fibonacci series.\n",
    "# Implementing fibonacci Series using top-down approach\n",
    "\n",
    "def fibonacciDPTopDown(n, dp):\n",
    "    print(f\"Calling for n = {n}...\", dp)\n",
    "    if (n == 0 or n == 1): return n\n",
    "    if dp[n] != 0: return dp[n]\n",
    "    dp[n] = fibonacciDPTopDown(n - 1, dp) + fibonacciDPTopDown(n - 2, dp)\n",
    "    return dp[n]\n",
    "\n",
    "n = int(input(\"Please Enter the Value for n:\"))\n",
    "dp = [0 for _ in range(n + 1)]\n",
    "print(dp)\n",
    "print(fibonacciDPTopDown(n, dp))"
   ]
  },
  {
   "cell_type": "code",
   "execution_count": 10,
   "id": "e5a51170-0d76-47fa-8689-621512906376",
   "metadata": {},
   "outputs": [
    {
     "name": "stdin",
     "output_type": "stream",
     "text": [
      "Please enter the value for n: 5\n"
     ]
    },
    {
     "name": "stdout",
     "output_type": "stream",
     "text": [
      "[0, 1, 0, 0, 0, 0]\n",
      "[0, 1, 1, 2, 3, 5]\n",
      "5\n"
     ]
    }
   ],
   "source": [
    "# term no.:         0 1 2 3 4 5 6 7  8  9\n",
    "# Fibonacci Series: 0 1 1 2 3 5 8 13 21 34\n",
    "# Probelm is to find the N-th term of the fibonacci series.\n",
    "# Implementing fibonacci Series using bottom-up approach\n",
    "# Time Complexity: O(n) and space complexity O(n)\n",
    "\n",
    "def fibonacciDPBottomUP(n):\n",
    "    dp = [0 for _ in range (n + 1)]\n",
    "    dp[0] = 0\n",
    "    dp[1] = 1\n",
    "    print(dp)\n",
    "    for i in range(2, n + 1):\n",
    "        dp[i] = dp[i - 1] + dp[i - 2]\n",
    "    print(dp)\n",
    "    return dp[n]\n",
    "    \n",
    "\n",
    "n = int(input(\"Please enter the value for n:\"))\n",
    "print(fibonacciDPBottomUP(n))\n"
   ]
  },
  {
   "cell_type": "code",
   "execution_count": 11,
   "id": "2a013a53-4a73-413e-a5b1-a3abaec2090e",
   "metadata": {},
   "outputs": [
    {
     "name": "stdin",
     "output_type": "stream",
     "text": [
      "Enter the Value for n: 5\n"
     ]
    },
    {
     "name": "stdout",
     "output_type": "stream",
     "text": [
      "5\n"
     ]
    }
   ],
   "source": [
    "# term no.:         0 1 2 3 4 5 6 7  8  9\n",
    "# Fibonacci Series: 0 1 1 2 3 5 8 13 21 34\n",
    "# Probelm is to find the N-th term of the fibonacci series.\n",
    "# Implementing fibonacci Series using bottom-up approach\n",
    "# Time Complexity: O(n) and space complexity O(1)\n",
    "\n",
    "def fibonacciDPBottomUPSpaceOptimized(n):\n",
    "    if n == 0 or n == 1: return n\n",
    "    f1 = 0; f2 = 1\n",
    "    for i in range(2, n + 1):\n",
    "        f3 = f1 + f2\n",
    "        f1 = f2\n",
    "        f2 = f3\n",
    "    return f3\n",
    "\n",
    "n = int(input(\"Enter the Value for n:\"))\n",
    "print(fibonacciDPBottomUPSpaceOptimized(n))"
   ]
  },
  {
   "cell_type": "code",
   "execution_count": null,
   "id": "f78b3edb-3e84-4c98-977d-f3f66cff86ac",
   "metadata": {},
   "outputs": [],
   "source": [
    "# Longest Increasing Subsequence\n",
    "def Lonest_Increasing_Subsequence(num):\n",
    "    sub = [0] * len(nums)\n",
    "    for n in nums:\n",
    "        i = bisect.bisect_left(sub, num)\n",
    "        if i == len(sub):\n",
    "            sub.append(num)\n",
    "        else:\n",
    "            sub[i] = num\n",
    "    return len(sub)\n",
    "        "
   ]
  },
  {
   "cell_type": "code",
   "execution_count": null,
   "id": "ab2cf2ca-337e-45a7-9c4d-5351bd250e1a",
   "metadata": {},
   "outputs": [],
   "source": []
  },
  {
   "cell_type": "code",
   "execution_count": null,
   "id": "19af3c7a-e889-42dd-94de-8d51d03f6905",
   "metadata": {},
   "outputs": [],
   "source": []
  },
  {
   "cell_type": "code",
   "execution_count": null,
   "id": "bb7ef47f-750d-41af-932b-ce043783643c",
   "metadata": {},
   "outputs": [],
   "source": []
  },
  {
   "cell_type": "code",
   "execution_count": null,
   "id": "33d173b6-8a3d-47e9-a652-955ee6d686a4",
   "metadata": {},
   "outputs": [],
   "source": [
    "def lengthOfLIS(nums):\n",
    "    sub = []  \n",
    "    for num in nums:\n",
    "        i = bisect.bisect_left(sub, num)\n",
    "        if i == len(sub):\n",
    "            sub.append(num)  \n",
    "        else:\n",
    "            sub[i] = num     \n",
    "    return len(sub)"
   ]
  }
 ],
 "metadata": {
  "kernelspec": {
   "display_name": "Python 3 (ipykernel)",
   "language": "python",
   "name": "python3"
  },
  "language_info": {
   "codemirror_mode": {
    "name": "ipython",
    "version": 3
   },
   "file_extension": ".py",
   "mimetype": "text/x-python",
   "name": "python",
   "nbconvert_exporter": "python",
   "pygments_lexer": "ipython3",
   "version": "3.11.7"
  }
 },
 "nbformat": 4,
 "nbformat_minor": 5
}
