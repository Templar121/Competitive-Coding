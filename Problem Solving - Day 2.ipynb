{
 "cells": [
  {
   "cell_type": "markdown",
   "id": "b534edea-48dc-4464-ae16-abe03d87168f",
   "metadata": {},
   "source": [
    "# **Code Chef Problems**"
   ]
  },
  {
   "cell_type": "markdown",
   "id": "0381460b-a5b3-4958-bfef-8b2fd61bef34",
   "metadata": {},
   "source": [
    "## Find the second largest\n",
    "Given three distinct integers A, B, C, print the second largest number among these "
   ]
  },
  {
   "cell_type": "code",
   "execution_count": 13,
   "id": "52db6103-be49-4aec-84dd-c8acf6f4381c",
   "metadata": {},
   "outputs": [
    {
     "name": "stdin",
     "output_type": "stream",
     "text": [
      " 25\n",
      " 14\n",
      " 89\n"
     ]
    },
    {
     "name": "stdout",
     "output_type": "stream",
     "text": [
      "25\n"
     ]
    }
   ],
   "source": [
    "# Logic - 1\n",
    "A = int(input())\n",
    "B = int(input())\n",
    "C = int(input())\n",
    "\n",
    "num = [A, B, C]\n",
    "\n",
    "num.sort()\n",
    "print(num[-2])\n"
   ]
  },
  {
   "cell_type": "code",
   "execution_count": 8,
   "id": "99b661e0-e8b3-4041-87ec-8a908f67df00",
   "metadata": {},
   "outputs": [
    {
     "name": "stdin",
     "output_type": "stream",
     "text": [
      " 15\n",
      " 28\n",
      " 21\n"
     ]
    },
    {
     "name": "stdout",
     "output_type": "stream",
     "text": [
      "28 15 21\n",
      "21\n"
     ]
    }
   ],
   "source": [
    "# Logic - 2\n",
    "A = int(input())\n",
    "B = int(input())\n",
    "C = int(input())\n",
    "\n",
    "if (A > B):\n",
    "    max1 = A\n",
    "    max2 = B\n",
    "else:\n",
    "    max1 = B\n",
    "    max2 = A\n",
    "\n",
    "if C >= max1:\n",
    "    print(max1)\n",
    "elif C >= max2:\n",
    "    print(C)\n",
    "else:\n",
    "    print(max2)"
   ]
  },
  {
   "cell_type": "markdown",
   "id": "e5b588ec-6bbc-40d3-94dd-9fc13fd1710d",
   "metadata": {},
   "source": [
    "## Not Last\n",
    "Given an integer N, check if its second last digit is 7 or not. If the second last digit is 7, print 1, else print 0.\n",
    "\n"
   ]
  },
  {
   "cell_type": "code",
   "execution_count": null,
   "id": "380a8b03-0ad5-4b2c-96e8-2df279c7c8f9",
   "metadata": {},
   "outputs": [],
   "source": [
    "N = int(input())\n",
    "s_l = (N // 10) % 10\n",
    "\n",
    "if s_l == 7:\n",
    "    print(1)\n",
    "else:\n",
    "    print(0)"
   ]
  },
  {
   "cell_type": "markdown",
   "id": "f1c13efe-8697-4635-b378-a068cab09c30",
   "metadata": {},
   "source": [
    "## Closest Divisor\n",
    "Given two integers A and B, find the largest number ≤ A which is completely divisible by B"
   ]
  },
  {
   "cell_type": "code",
   "execution_count": 9,
   "id": "be30af47-13d8-4603-832f-afaa8e754670",
   "metadata": {},
   "outputs": [
    {
     "name": "stdin",
     "output_type": "stream",
     "text": [
      " 11\n",
      " 5\n"
     ]
    },
    {
     "name": "stdout",
     "output_type": "stream",
     "text": [
      "10\n"
     ]
    }
   ],
   "source": [
    "A = int(input())\n",
    "B = int(input())\n",
    "\n",
    "\n",
    "result = A - (A % B)\n",
    "\n",
    "\n",
    "print(result)"
   ]
  },
  {
   "cell_type": "markdown",
   "id": "f9083e45-f2bb-4bf3-ba2c-4cff1b6b10ca",
   "metadata": {},
   "source": [
    "## Odd Even Multiple\n",
    "Odd Even Multiple\n",
    "Given an integer N,\n",
    "1. If N is not divisible by 3 then print -1,\n",
    "2. If N is an odd multiple of 3 then print 1\n",
    "3. If N is an even multiple of 3 then print 0."
   ]
  },
  {
   "cell_type": "code",
   "execution_count": 10,
   "id": "bdaed6bb-5ce3-4d5b-9359-9ca2e008d499",
   "metadata": {},
   "outputs": [
    {
     "name": "stdin",
     "output_type": "stream",
     "text": [
      " 21\n"
     ]
    },
    {
     "name": "stdout",
     "output_type": "stream",
     "text": [
      "1\n"
     ]
    }
   ],
   "source": [
    "\n",
    "N = int(input())\n",
    "\n",
    "# Logic as per the problem statement\n",
    "if N % 3 != 0:\n",
    "    print(-1)\n",
    "elif N % 2 == 1:\n",
    "    print(1)\n",
    "else:\n",
    "    print(0)\n"
   ]
  },
  {
   "cell_type": "markdown",
   "id": "48b7bf45-5549-4edf-9eb0-b83852da6529",
   "metadata": {},
   "source": [
    "## Raju and His Trip"
   ]
  },
  {
   "cell_type": "code",
   "execution_count": 12,
   "id": "0aed91e3-032f-4602-81e8-d4bc15b492d8",
   "metadata": {},
   "outputs": [
    {
     "name": "stdin",
     "output_type": "stream",
     "text": [
      " 15\n"
     ]
    },
    {
     "name": "stdout",
     "output_type": "stream",
     "text": [
      "YES\n"
     ]
    }
   ],
   "source": [
    "N = int(input())\n",
    "\n",
    "if N % 5 == 0 or N % 6 == 0:\n",
    "    print(\"YES\")\n",
    "else:\n",
    "    print(\"NO\")"
   ]
  },
  {
   "cell_type": "markdown",
   "id": "03d80f1e-9a54-4f3d-a6ba-46e49593a188",
   "metadata": {},
   "source": [
    "## Is Palindrome\n",
    "You're given a number N. Check if the number N is palindrome or not. Print YES if it's a palindrome, otherwise print NO."
   ]
  },
  {
   "cell_type": "code",
   "execution_count": 14,
   "id": "a2a81197-570a-4002-baad-f9c90238b786",
   "metadata": {},
   "outputs": [
    {
     "name": "stdin",
     "output_type": "stream",
     "text": [
      " 1221\n"
     ]
    },
    {
     "name": "stdout",
     "output_type": "stream",
     "text": [
      "YES\n"
     ]
    }
   ],
   "source": [
    "n = str(input())\n",
    "if n == n[::-1]: print(\"YES\")\n",
    "else: print(\"NO\")"
   ]
  },
  {
   "cell_type": "markdown",
   "id": "83028118-c7cf-4d2d-88f7-db7f43d772fd",
   "metadata": {},
   "source": [
    "## Cats and Dogs\n",
    "Chef is a farmer and a pet lover. He has a lot of his favorite pets, cats and dogs, in the barn. He knows that there are C cats and \n",
    "D dogs in the barn. Also, one day went to the field and found that there were L legs of the animals touching the ground. Chef knows that cats love to ride on the dogs. So, they might ride on the dogs, and their legs won't touch the ground, and Chef would miss counting their legs. Chef's dogs are strong enough to ride at max two cats on their back.\n",
    "\n",
    "It was a cold foggy morning, when Chef did this counting. So he is now wondering whether he counted the legs properly or not. Specifically, he is wondering whether it is possible that he counted correctly. Please help Chef in finding it."
   ]
  },
  {
   "cell_type": "code",
   "execution_count": 16,
   "id": "599013cc-7441-4c87-a351-3b2842a35b7c",
   "metadata": {},
   "outputs": [
    {
     "name": "stdin",
     "output_type": "stream",
     "text": [
      " 3\n",
      " 1 1 8\n"
     ]
    },
    {
     "name": "stdout",
     "output_type": "stream",
     "text": [
      "yes\n"
     ]
    },
    {
     "name": "stdin",
     "output_type": "stream",
     "text": [
      " 1 1 4\n"
     ]
    },
    {
     "name": "stdout",
     "output_type": "stream",
     "text": [
      "yes\n"
     ]
    },
    {
     "name": "stdin",
     "output_type": "stream",
     "text": [
      " 1 1 2\n"
     ]
    },
    {
     "name": "stdout",
     "output_type": "stream",
     "text": [
      "no\n"
     ]
    }
   ],
   "source": [
    "N = int(input())\n",
    "\n",
    "for _ in range(N):\n",
    "    C, D, L = map(int, input().split())\n",
    "    max_legs = 4 * (C + D)\n",
    "    min_legs = 4 * (D + max(0, C - 2 * D))\n",
    "    if L % 4 ==0 and min_legs <= L <= max_legs:\n",
    "        print(\"yes\")\n",
    "    else:\n",
    "        print(\"no\")"
   ]
  },
  {
   "cell_type": "markdown",
   "id": "d7ca72e8-13de-4958-a93a-7b137fd1eb48",
   "metadata": {},
   "source": [
    "## HCF and LCM \n",
    "You are given two integers, a and b. Find the HCF (also known as GCD) and LCM of these two numbers and print them in a new line."
   ]
  },
  {
   "cell_type": "code",
   "execution_count": null,
   "id": "d7af19ee-56ae-46cc-b948-f511d9184699",
   "metadata": {},
   "outputs": [],
   "source": [
    "# Using Built-In Math Functions\n",
    "import math\n",
    "\n",
    "a, b = map(int, input().split())\n",
    "\n",
    "hcf = math.gcd(a, b)\n",
    "lcm = (a * b) // hcf\n",
    "\n",
    "print(lcm, hcf)"
   ]
  },
  {
   "cell_type": "code",
   "execution_count": null,
   "id": "a4939eec-5e76-4fed-b824-ad64900f3cce",
   "metadata": {},
   "outputs": [],
   "source": [
    "# Without Math Function and declaring self hcf function\n",
    "def compute_hcf(a, b):\n",
    "    while b != 0:\n",
    "        a, b = b, a % b\n",
    "    return a\n",
    "    \n",
    "a, b = map(int, input().split())\n",
    "\n",
    "hcf = compute_hcf(a, b)\n",
    "\n",
    "lcm = (a * b) // hcf\n",
    "\n",
    "print(hcf, lcm)\n"
   ]
  },
  {
   "cell_type": "markdown",
   "id": "3411dbad-c36c-4087-a526-7a88247e6656",
   "metadata": {},
   "source": [
    "##  Full Barrier Alchemist\n",
    "Edward Elric is chasing after Scar. To stop Edward, Scar creates N barriers in the way, numbered from 1 to N. Each barrier Scar created is either one of the following two types.\n",
    "\n",
    "1. Type 1 barrier - This barrier starts from a height X above the ground and extends till the sky.\n",
    "2. Type 2 barrier - This barrier starts from the ground and extends up to height X above the ground.\n",
    "\n",
    "The height of Edward is H units and he has an alchemic life force of L units. Moreover, he can duck by Y1 units and jump by height Y2 units (as explained in the figures). He starts crossing barriers in sequence, starting from barrier 1 till the barrier N. Whenever he can't pass a barrier by ducking or jumping (considered passed even when the barrier just touches him), he uses Alchemy to break the barrier. However, this costs him a single unit of his alchemic life force.\n",
    "\n",
    "If after breaking a barrier no life force is left, Edward gets completely exhausted, unable to pass that barrier.\n",
    "How many barriers can Edward cross?\n",
    "\n",
    "And remember never to call him a pipsqueak if his height is too short!"
   ]
  },
  {
   "cell_type": "code",
   "execution_count": null,
   "id": "91ba0b07-f10a-4a96-8446-962038c3ce98",
   "metadata": {},
   "outputs": [],
   "source": [
    "T = int(input())\n",
    "\n",
    "for _ in range(T):\n",
    "    N, H, Y1, Y2, L = map(int, input().split())\n",
    "    barriers_passed = 0\n",
    "    for i in range(N):\n",
    "        t, X = map(int, input().split())\n",
    "        if t == 1 and H - Y1 > X:\n",
    "            L -= 1\n",
    "        elif t == 2 and Y2 < X:\n",
    "            L -= 1\n",
    "        if L > 0:\n",
    "          barriers_passed += 1\n",
    "    print(barriers_passed)"
   ]
  },
  {
   "cell_type": "markdown",
   "id": "33230b47-a542-42e2-a15f-bf487b8b04c5",
   "metadata": {},
   "source": [
    "## Hardest Problem Bet "
   ]
  },
  {
   "cell_type": "code",
   "execution_count": null,
   "id": "9835bc02-d83c-4608-93c0-198275f4be14",
   "metadata": {},
   "outputs": [],
   "source": [
    "T = int(input())\n",
    "\n",
    "for _ in range(T):\n",
    "    SA, SB, SC = map(int, input().split())\n",
    "\n",
    "    if SC < SA and SC < SB:\n",
    "        print(\"Alice\")\n",
    "    elif SB < SA and SB < SC:\n",
    "        print(\"Bob\")\n",
    "    else:\n",
    "        print(\"Draw\")\n"
   ]
  },
  {
   "cell_type": "markdown",
   "id": "821b5051-0f29-49f3-b228-ee540bc443a2",
   "metadata": {},
   "source": [
    "## Distinct Pairs "
   ]
  },
  {
   "cell_type": "code",
   "execution_count": null,
   "id": "d701cf3c-4e01-4972-a742-d85f33a48ad7",
   "metadata": {},
   "outputs": [],
   "source": [
    "# cook your dish here\n",
    "N, M = map(int, input().split())\n",
    "A = list(map(int, input().split()))\n",
    "B = list(map(int, input().split()))\n",
    "minA_idx = A.index(min(A))\n",
    "maxB_idx = B.index(max(B))  \n",
    "for j in range(M):\n",
    "    print(minA_idx, j)\n",
    "for i in range(N):\n",
    "    if i != minA_idx:\n",
    "        print(i, maxB_idx)"
   ]
  },
  {
   "cell_type": "code",
   "execution_count": null,
   "id": "47c39edc-15eb-469d-b864-6c56105b23fe",
   "metadata": {},
   "outputs": [],
   "source": []
  },
  {
   "cell_type": "code",
   "execution_count": null,
   "id": "92ef7551-0091-4de9-8f88-94522d1f21b5",
   "metadata": {},
   "outputs": [],
   "source": []
  },
  {
   "cell_type": "code",
   "execution_count": null,
   "id": "9bef7eeb-b555-419b-84a3-72bb70a76215",
   "metadata": {},
   "outputs": [],
   "source": []
  },
  {
   "cell_type": "code",
   "execution_count": null,
   "id": "9bb428ad-5655-483a-bdbf-a22140e4c09c",
   "metadata": {},
   "outputs": [],
   "source": []
  },
  {
   "cell_type": "code",
   "execution_count": null,
   "id": "0af3db34-2845-4079-a4e0-73f00332d2e6",
   "metadata": {},
   "outputs": [],
   "source": []
  },
  {
   "cell_type": "code",
   "execution_count": null,
   "id": "2ce612cd-2153-41d3-8e9d-a6bd9ee3b12c",
   "metadata": {},
   "outputs": [],
   "source": []
  },
  {
   "cell_type": "code",
   "execution_count": null,
   "id": "3edcf281-9257-47dd-a316-845fdcb1fc45",
   "metadata": {},
   "outputs": [],
   "source": []
  },
  {
   "cell_type": "code",
   "execution_count": null,
   "id": "2ba3c97a-7de4-4581-87da-c1d8fb2cfea8",
   "metadata": {},
   "outputs": [],
   "source": []
  },
  {
   "cell_type": "code",
   "execution_count": null,
   "id": "5b53b348-c6e7-4520-b108-ffb18b4050e3",
   "metadata": {},
   "outputs": [],
   "source": []
  },
  {
   "cell_type": "code",
   "execution_count": null,
   "id": "23c604e9-bead-4403-bee4-fb8388526937",
   "metadata": {},
   "outputs": [],
   "source": [
    "# Read inputs # Distinct Pairs\n",
    "N, M = map(int, input().split())\n",
    "A = list(map(int, input().split()))\n",
    "B = list(map(int, input().split()))\n",
    "\n",
    "# Find the index of the smallest element in A\n",
    "minA_idx = A.index(min(A))\n",
    "maxB_idx = B.index(max(B))  # To ensure all sums are distinct\n",
    "\n",
    "# Output M pairs: A[minA_idx] with every B[j]\n",
    "for j in range(M):\n",
    "    print(minA_idx, j)\n",
    "\n",
    "# Output N - 1 pairs: each A[i] (except minA_idx) with B[maxB_idx]\n",
    "for i in range(N):\n",
    "    if i != minA_idx:\n",
    "        print(i, maxB_idx)\n"
   ]
  },
  {
   "cell_type": "code",
   "execution_count": null,
   "id": "2a5ddbc5-b8f2-41e3-a1ee-02efdc3f03d0",
   "metadata": {},
   "outputs": [],
   "source": []
  },
  {
   "cell_type": "code",
   "execution_count": null,
   "id": "12e709ac-9120-43ed-9fd5-1e08ebe70743",
   "metadata": {},
   "outputs": [],
   "source": []
  },
  {
   "cell_type": "code",
   "execution_count": null,
   "id": "7b31aaad-1f69-4b23-95b2-a99230775dd1",
   "metadata": {},
   "outputs": [],
   "source": []
  },
  {
   "cell_type": "code",
   "execution_count": null,
   "id": "bd4530cf-79fb-4f10-8fdb-201a4e6b8084",
   "metadata": {},
   "outputs": [],
   "source": []
  },
  {
   "cell_type": "code",
   "execution_count": null,
   "id": "7ce2961f-2904-4c5f-8a03-0e18f3ce5857",
   "metadata": {},
   "outputs": [],
   "source": []
  },
  {
   "cell_type": "code",
   "execution_count": null,
   "id": "56afe915-f672-461e-aa73-ec7874b35d68",
   "metadata": {},
   "outputs": [],
   "source": []
  },
  {
   "cell_type": "code",
   "execution_count": null,
   "id": "52c6c9db-c2eb-4f9e-82f1-27487c882953",
   "metadata": {},
   "outputs": [],
   "source": []
  },
  {
   "cell_type": "code",
   "execution_count": null,
   "id": "4a6c49dc-025a-4ceb-8dc9-516f76c157b1",
   "metadata": {},
   "outputs": [],
   "source": []
  },
  {
   "cell_type": "code",
   "execution_count": null,
   "id": "89daa3e6-00bb-46bb-a7ce-dde2e5953e05",
   "metadata": {},
   "outputs": [],
   "source": []
  },
  {
   "cell_type": "code",
   "execution_count": null,
   "id": "180c1bea-6859-414d-aa2b-ad8318be9643",
   "metadata": {},
   "outputs": [],
   "source": []
  },
  {
   "cell_type": "code",
   "execution_count": null,
   "id": "1d967077-3883-4ef2-9227-b6eadf928252",
   "metadata": {},
   "outputs": [],
   "source": []
  },
  {
   "cell_type": "code",
   "execution_count": null,
   "id": "e2551243-3aea-4e00-9449-172ffe345314",
   "metadata": {},
   "outputs": [],
   "source": []
  },
  {
   "cell_type": "code",
   "execution_count": null,
   "id": "27caa13f-07a5-4655-b954-95623b000916",
   "metadata": {},
   "outputs": [],
   "source": []
  },
  {
   "cell_type": "code",
   "execution_count": null,
   "id": "e505ab5f-ab24-4048-b178-2175e971097c",
   "metadata": {},
   "outputs": [],
   "source": []
  },
  {
   "cell_type": "code",
   "execution_count": null,
   "id": "d61e8d16-ae32-4e4b-ab81-f5d304e9cddc",
   "metadata": {},
   "outputs": [],
   "source": [
    "T = int(input())  # Sum of Digits\n",
    "\n",
    "for _ in range(T):\n",
    "    N = int(input())\n",
    "    digit_sum = sum(int(d) for d in str(N))  # Sum of digits\n",
    "    print(digit_sum)\n"
   ]
  },
  {
   "cell_type": "code",
   "execution_count": null,
   "id": "1ae529cc-6af7-4b77-99d8-86efef3a6928",
   "metadata": {},
   "outputs": [],
   "source": []
  },
  {
   "cell_type": "code",
   "execution_count": null,
   "id": "cdd631d6-ec2d-40fe-8a9b-8f7b77251ebe",
   "metadata": {},
   "outputs": [],
   "source": []
  },
  {
   "cell_type": "code",
   "execution_count": null,
   "id": "4569cfde-779f-428d-b7ce-4aaacf242417",
   "metadata": {},
   "outputs": [],
   "source": []
  },
  {
   "cell_type": "code",
   "execution_count": null,
   "id": "b5aed84e-d0df-4dbd-9d43-2b1cae1f42ae",
   "metadata": {},
   "outputs": [],
   "source": []
  },
  {
   "cell_type": "code",
   "execution_count": null,
   "id": "63a05c40-0f04-410f-a488-9f13fe1f756d",
   "metadata": {},
   "outputs": [],
   "source": [
    "def add_digits(num): # Digital Root \n",
    "    if num == 0:\n",
    "        return 0\n",
    "    return 9 if num % 9 == 0 else num % 9\n"
   ]
  },
  {
   "cell_type": "code",
   "execution_count": null,
   "id": "a542c21e-6aa1-4379-8971-d769f0af0c05",
   "metadata": {},
   "outputs": [],
   "source": []
  },
  {
   "cell_type": "code",
   "execution_count": null,
   "id": "bebf6c44-02ff-40af-a706-efb53b1e6ebe",
   "metadata": {},
   "outputs": [],
   "source": []
  },
  {
   "cell_type": "code",
   "execution_count": null,
   "id": "d38d7d25-7013-46a6-b173-ab9f401649d5",
   "metadata": {},
   "outputs": [],
   "source": []
  },
  {
   "cell_type": "code",
   "execution_count": null,
   "id": "1bfe3c6f-8d72-411d-8278-14bdae0b629b",
   "metadata": {},
   "outputs": [],
   "source": []
  },
  {
   "cell_type": "code",
   "execution_count": null,
   "id": "de54cc46-f0bb-4ee5-a6b8-41696c2d9ae9",
   "metadata": {},
   "outputs": [],
   "source": [
    "# Read inputs # Distinct Pairs\n",
    "N, M = map(int, input().split())\n",
    "A = list(map(int, input().split()))\n",
    "B = list(map(int, input().split()))\n",
    "\n",
    "# Find the index of the smallest element in A\n",
    "minA_idx = A.index(min(A))\n",
    "maxB_idx = B.index(max(B))  # To ensure all sums are distinct\n",
    "\n",
    "# Output M pairs: A[minA_idx] with every B[j]\n",
    "for j in range(M):\n",
    "    print(minA_idx, j)\n",
    "\n",
    "# Output N - 1 pairs: each A[i] (except minA_idx) with B[maxB_idx]\n",
    "for i in range(N):\n",
    "    if i != minA_idx:\n",
    "        print(i, maxB_idx)\n"
   ]
  },
  {
   "cell_type": "code",
   "execution_count": null,
   "id": "2cbba13d-878d-4ee0-91c0-9992250e77a0",
   "metadata": {},
   "outputs": [],
   "source": []
  },
  {
   "cell_type": "code",
   "execution_count": null,
   "id": "b94c44d4-a27a-48c5-8201-d3d6c25e29a1",
   "metadata": {},
   "outputs": [],
   "source": []
  },
  {
   "cell_type": "code",
   "execution_count": null,
   "id": "0f665c55-0f4e-45e1-89e9-ba31a01022c9",
   "metadata": {},
   "outputs": [],
   "source": []
  },
  {
   "cell_type": "code",
   "execution_count": null,
   "id": "b62a8bd4-6bfc-4ea7-b55d-e90770d739fb",
   "metadata": {},
   "outputs": [],
   "source": [
    "T = int(input()) # Hardest probelm bet\n",
    "\n",
    "for _ in range(T):\n",
    "    SA, SB, SC = map(int, input().split())\n",
    "    \n",
    "    max_score = max(SA, SB, SC)\n",
    "    count = 0\n",
    "    winner = \"\"\n",
    "\n",
    "    if SA == max_score:\n",
    "        count += 1\n",
    "        winner = \"A\"\n",
    "    if SB == max_score:\n",
    "        count += 1\n",
    "        winner = \"B\"\n",
    "    if SC == max_score:\n",
    "        count += 1\n",
    "        winner = \"C\"\n",
    "\n",
    "    if count == 1:\n",
    "        print(winner)\n",
    "    else:\n",
    "        print(\"Draw\")\n"
   ]
  }
 ],
 "metadata": {
  "kernelspec": {
   "display_name": "Python 3 (ipykernel)",
   "language": "python",
   "name": "python3"
  },
  "language_info": {
   "codemirror_mode": {
    "name": "ipython",
    "version": 3
   },
   "file_extension": ".py",
   "mimetype": "text/x-python",
   "name": "python",
   "nbconvert_exporter": "python",
   "pygments_lexer": "ipython3",
   "version": "3.11.7"
  }
 },
 "nbformat": 4,
 "nbformat_minor": 5
}
