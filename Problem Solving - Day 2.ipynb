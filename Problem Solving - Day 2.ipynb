{
 "cells": [
  {
   "cell_type": "markdown",
   "id": "b534edea-48dc-4464-ae16-abe03d87168f",
   "metadata": {},
   "source": [
    "# **Code Chef Problems**"
   ]
  },
  {
   "cell_type": "markdown",
   "id": "0381460b-a5b3-4958-bfef-8b2fd61bef34",
   "metadata": {},
   "source": [
    "## Find the second largest\n",
    "Given three distinct integers A, B, C, print the second largest number among these "
   ]
  },
  {
   "cell_type": "code",
   "execution_count": 3,
   "id": "52db6103-be49-4aec-84dd-c8acf6f4381c",
   "metadata": {},
   "outputs": [
    {
     "name": "stdin",
     "output_type": "stream",
     "text": [
      "Enter number of numbers:  3\n",
      "Enter number 1:  21\n",
      "Enter number 2:  54\n",
      "Enter number 3:  85\n"
     ]
    },
    {
     "name": "stdout",
     "output_type": "stream",
     "text": [
      "Second largest number is: 54\n"
     ]
    }
   ],
   "source": [
    "n = int(input(\"Enter number of numbers: \"))\n",
    "arr = []\n",
    "for i in range(n):\n",
    "    num = int(input(f\"Enter number {i + 1}: \"))\n",
    "    arr.append(num)\n",
    "\n",
    "arr.sort()\n",
    "print(\"Second largest number is:\", arr[-2])\n"
   ]
  },
  {
   "cell_type": "markdown",
   "id": "e5b588ec-6bbc-40d3-94dd-9fc13fd1710d",
   "metadata": {},
   "source": [
    "## Closest Divisor\n",
    "Given two integers A and B, find the largest number  which is completely divisible by B\n"
   ]
  },
  {
   "cell_type": "code",
   "execution_count": null,
   "id": "380a8b03-0ad5-4b2c-96e8-2df279c7c8f9",
   "metadata": {},
   "outputs": [],
   "source": []
  },
  {
   "cell_type": "code",
   "execution_count": null,
   "id": "434ade63-462e-4014-8ff1-435c63bd58e7",
   "metadata": {},
   "outputs": [],
   "source": []
  },
  {
   "cell_type": "code",
   "execution_count": null,
   "id": "be30af47-13d8-4603-832f-afaa8e754670",
   "metadata": {},
   "outputs": [],
   "source": []
  },
  {
   "cell_type": "code",
   "execution_count": null,
   "id": "41373651-1bc4-430f-8706-9cdf5f616b58",
   "metadata": {},
   "outputs": [],
   "source": []
  },
  {
   "cell_type": "code",
   "execution_count": null,
   "id": "bdaed6bb-5ce3-4d5b-9359-9ca2e008d499",
   "metadata": {},
   "outputs": [],
   "source": []
  },
  {
   "cell_type": "code",
   "execution_count": null,
   "id": "e65b7a1e-401b-48ac-accd-b4c0205d8bd0",
   "metadata": {},
   "outputs": [],
   "source": []
  },
  {
   "cell_type": "code",
   "execution_count": null,
   "id": "0aed91e3-032f-4602-81e8-d4bc15b492d8",
   "metadata": {},
   "outputs": [],
   "source": []
  },
  {
   "cell_type": "code",
   "execution_count": null,
   "id": "6e8133fb-101b-4753-a251-7e556bb03671",
   "metadata": {},
   "outputs": [],
   "source": []
  },
  {
   "cell_type": "code",
   "execution_count": null,
   "id": "a2a81197-570a-4002-baad-f9c90238b786",
   "metadata": {},
   "outputs": [],
   "source": []
  },
  {
   "cell_type": "code",
   "execution_count": null,
   "id": "3eab509b-d697-42d2-a3a4-4b58b365abf5",
   "metadata": {},
   "outputs": [],
   "source": []
  },
  {
   "cell_type": "code",
   "execution_count": null,
   "id": "599013cc-7441-4c87-a351-3b2842a35b7c",
   "metadata": {},
   "outputs": [],
   "source": []
  },
  {
   "cell_type": "code",
   "execution_count": null,
   "id": "ca21c96b-d8f2-4bcb-ae5c-8db54a4a5d93",
   "metadata": {},
   "outputs": [],
   "source": []
  },
  {
   "cell_type": "code",
   "execution_count": null,
   "id": "d7af19ee-56ae-46cc-b948-f511d9184699",
   "metadata": {},
   "outputs": [],
   "source": []
  },
  {
   "cell_type": "code",
   "execution_count": null,
   "id": "a4939eec-5e76-4fed-b824-ad64900f3cce",
   "metadata": {},
   "outputs": [],
   "source": []
  },
  {
   "cell_type": "code",
   "execution_count": null,
   "id": "006413d6-3693-4e9c-849b-0ac76cd44101",
   "metadata": {},
   "outputs": [],
   "source": [
    "# Input reading\n",
    "A = int(input())\n",
    "B = int(input())\n",
    "\n",
    "# Find the largest number ≤ A divisible by B\n",
    "result = A - (A % B)\n",
    "\n",
    "# Output the result\n",
    "print(result)\n"
   ]
  }
 ],
 "metadata": {
  "kernelspec": {
   "display_name": "Python 3 (ipykernel)",
   "language": "python",
   "name": "python3"
  },
  "language_info": {
   "codemirror_mode": {
    "name": "ipython",
    "version": 3
   },
   "file_extension": ".py",
   "mimetype": "text/x-python",
   "name": "python",
   "nbconvert_exporter": "python",
   "pygments_lexer": "ipython3",
   "version": "3.11.7"
  }
 },
 "nbformat": 4,
 "nbformat_minor": 5
}
