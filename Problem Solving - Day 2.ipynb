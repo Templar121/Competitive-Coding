{
 "cells": [
  {
   "cell_type": "markdown",
   "id": "b534edea-48dc-4464-ae16-abe03d87168f",
   "metadata": {},
   "source": [
    "# **Code Chef Problems**"
   ]
  },
  {
   "cell_type": "markdown",
   "id": "0381460b-a5b3-4958-bfef-8b2fd61bef34",
   "metadata": {},
   "source": [
    "## Find the second largest\n",
    "Given three distinct integers A, B, C, print the second largest number among these "
   ]
  },
  {
   "cell_type": "code",
   "execution_count": 13,
   "id": "52db6103-be49-4aec-84dd-c8acf6f4381c",
   "metadata": {},
   "outputs": [
    {
     "name": "stdin",
     "output_type": "stream",
     "text": [
      " 25\n",
      " 14\n",
      " 89\n"
     ]
    },
    {
     "name": "stdout",
     "output_type": "stream",
     "text": [
      "25\n"
     ]
    }
   ],
   "source": [
    "# Logic - 1\n",
    "A = int(input())\n",
    "B = int(input())\n",
    "C = int(input())\n",
    "\n",
    "num = [A, B, C]\n",
    "\n",
    "num.sort()\n",
    "print(num[-2])\n"
   ]
  },
  {
   "cell_type": "code",
   "execution_count": 8,
   "id": "99b661e0-e8b3-4041-87ec-8a908f67df00",
   "metadata": {},
   "outputs": [
    {
     "name": "stdin",
     "output_type": "stream",
     "text": [
      " 15\n",
      " 28\n",
      " 21\n"
     ]
    },
    {
     "name": "stdout",
     "output_type": "stream",
     "text": [
      "28 15 21\n",
      "21\n"
     ]
    }
   ],
   "source": [
    "# Logic - 2\n",
    "A = int(input())\n",
    "B = int(input())\n",
    "C = int(input())\n",
    "\n",
    "if (A > B):\n",
    "    max1 = A\n",
    "    max2 = B\n",
    "else:\n",
    "    max1 = B\n",
    "    max2 = A\n",
    "\n",
    "if C >= max1:\n",
    "    print(max1)\n",
    "elif C >= max2:\n",
    "    print(C)\n",
    "else:\n",
    "    print(max2)"
   ]
  },
  {
   "cell_type": "markdown",
   "id": "e5b588ec-6bbc-40d3-94dd-9fc13fd1710d",
   "metadata": {},
   "source": [
    "## Not Last\n",
    "Given an integer N, check if its second last digit is 7 or not. If the second last digit is 7, print 1, else print 0.\n",
    "\n"
   ]
  },
  {
   "cell_type": "code",
   "execution_count": null,
   "id": "380a8b03-0ad5-4b2c-96e8-2df279c7c8f9",
   "metadata": {},
   "outputs": [],
   "source": [
    "N = int(input())\n",
    "s_l = (N // 10) % 10\n",
    "\n",
    "if s_l == 7:\n",
    "    print(1)\n",
    "else:\n",
    "    print(0)"
   ]
  },
  {
   "cell_type": "markdown",
   "id": "f1c13efe-8697-4635-b378-a068cab09c30",
   "metadata": {},
   "source": [
    "## Closest Divisor\n",
    "Given two integers A and B, find the largest number ≤ A which is completely divisible by B"
   ]
  },
  {
   "cell_type": "code",
   "execution_count": 9,
   "id": "be30af47-13d8-4603-832f-afaa8e754670",
   "metadata": {},
   "outputs": [
    {
     "name": "stdin",
     "output_type": "stream",
     "text": [
      " 11\n",
      " 5\n"
     ]
    },
    {
     "name": "stdout",
     "output_type": "stream",
     "text": [
      "10\n"
     ]
    }
   ],
   "source": [
    "A = int(input())\n",
    "B = int(input())\n",
    "\n",
    "\n",
    "result = A - (A % B)\n",
    "\n",
    "\n",
    "print(result)"
   ]
  },
  {
   "cell_type": "markdown",
   "id": "f9083e45-f2bb-4bf3-ba2c-4cff1b6b10ca",
   "metadata": {},
   "source": [
    "## Odd Even Multiple\n",
    "Odd Even Multiple\n",
    "Given an integer N,\n",
    "1. If N is not divisible by 3 then print -1,\n",
    "2. If N is an odd multiple of 3 then print 1\n",
    "3. If N is an even multiple of 3 then print 0."
   ]
  },
  {
   "cell_type": "code",
   "execution_count": 10,
   "id": "bdaed6bb-5ce3-4d5b-9359-9ca2e008d499",
   "metadata": {},
   "outputs": [
    {
     "name": "stdin",
     "output_type": "stream",
     "text": [
      " 21\n"
     ]
    },
    {
     "name": "stdout",
     "output_type": "stream",
     "text": [
      "1\n"
     ]
    }
   ],
   "source": [
    "\n",
    "N = int(input())\n",
    "\n",
    "# Logic as per the problem statement\n",
    "if N % 3 != 0:\n",
    "    print(-1)\n",
    "elif N % 2 == 1:\n",
    "    print(1)\n",
    "else:\n",
    "    print(0)\n"
   ]
  },
  {
   "cell_type": "markdown",
   "id": "48b7bf45-5549-4edf-9eb0-b83852da6529",
   "metadata": {},
   "source": [
    "## Raju and His Trip"
   ]
  },
  {
   "cell_type": "code",
   "execution_count": 12,
   "id": "0aed91e3-032f-4602-81e8-d4bc15b492d8",
   "metadata": {},
   "outputs": [
    {
     "name": "stdin",
     "output_type": "stream",
     "text": [
      " 15\n"
     ]
    },
    {
     "name": "stdout",
     "output_type": "stream",
     "text": [
      "YES\n"
     ]
    }
   ],
   "source": [
    "N = int(input())\n",
    "\n",
    "if N % 5 == 0 or N % 6 == 0:\n",
    "    print(\"YES\")\n",
    "else:\n",
    "    print(\"NO\")"
   ]
  },
  {
   "cell_type": "markdown",
   "id": "03d80f1e-9a54-4f3d-a6ba-46e49593a188",
   "metadata": {},
   "source": [
    "## Is Palindrome\n",
    "You're given a number N. Check if the number N is palindrome or not. Print YES if it's a palindrome, otherwise print NO."
   ]
  },
  {
   "cell_type": "code",
   "execution_count": 14,
   "id": "a2a81197-570a-4002-baad-f9c90238b786",
   "metadata": {},
   "outputs": [
    {
     "name": "stdin",
     "output_type": "stream",
     "text": [
      " 1221\n"
     ]
    },
    {
     "name": "stdout",
     "output_type": "stream",
     "text": [
      "YES\n"
     ]
    }
   ],
   "source": [
    "n = str(input())\n",
    "if n == n[::-1]: print(\"YES\")\n",
    "else: print(\"NO\")"
   ]
  },
  {
   "cell_type": "markdown",
   "id": "83028118-c7cf-4d2d-88f7-db7f43d772fd",
   "metadata": {},
   "source": [
    "## Cats and Dogs\n",
    "Chef is a farmer and a pet lover. He has a lot of his favorite pets, cats and dogs, in the barn. He knows that there are C cats and \n",
    "D dogs in the barn. Also, one day went to the field and found that there were L legs of the animals touching the ground. Chef knows that cats love to ride on the dogs. So, they might ride on the dogs, and their legs won't touch the ground, and Chef would miss counting their legs. Chef's dogs are strong enough to ride at max two cats on their back.\n",
    "\n",
    "It was a cold foggy morning, when Chef did this counting. So he is now wondering whether he counted the legs properly or not. Specifically, he is wondering whether it is possible that he counted correctly. Please help Chef in finding it."
   ]
  },
  {
   "cell_type": "code",
   "execution_count": 16,
   "id": "599013cc-7441-4c87-a351-3b2842a35b7c",
   "metadata": {},
   "outputs": [
    {
     "name": "stdin",
     "output_type": "stream",
     "text": [
      " 3\n",
      " 1 1 8\n"
     ]
    },
    {
     "name": "stdout",
     "output_type": "stream",
     "text": [
      "yes\n"
     ]
    },
    {
     "name": "stdin",
     "output_type": "stream",
     "text": [
      " 1 1 4\n"
     ]
    },
    {
     "name": "stdout",
     "output_type": "stream",
     "text": [
      "yes\n"
     ]
    },
    {
     "name": "stdin",
     "output_type": "stream",
     "text": [
      " 1 1 2\n"
     ]
    },
    {
     "name": "stdout",
     "output_type": "stream",
     "text": [
      "no\n"
     ]
    }
   ],
   "source": [
    "N = int(input())\n",
    "\n",
    "for _ in range(N):\n",
    "    C, D, L = map(int, input().split())\n",
    "    max_legs = 4 * (C + D)\n",
    "    min_legs = 4 * (D + max(0, C - 2 * D))\n",
    "    if L % 4 ==0 and min_legs <= L <= max_legs:\n",
    "        print(\"yes\")\n",
    "    else:\n",
    "        print(\"no\")"
   ]
  },
  {
   "cell_type": "markdown",
   "id": "d7ca72e8-13de-4958-a93a-7b137fd1eb48",
   "metadata": {},
   "source": [
    "## HCF and LCM \n",
    "You are given two integers, a and b. Find the HCF (also known as GCD) and LCM of these two numbers and print them in a new line."
   ]
  },
  {
   "cell_type": "code",
   "execution_count": null,
   "id": "d7af19ee-56ae-46cc-b948-f511d9184699",
   "metadata": {},
   "outputs": [],
   "source": [
    "# Using Built-In Math Functions\n",
    "import math\n",
    "\n",
    "a, b = map(int, input().split())\n",
    "\n",
    "hcf = math.gcd(a, b)\n",
    "lcm = (a * b) // hcf\n",
    "\n",
    "print(lcm, hcf)"
   ]
  },
  {
   "cell_type": "code",
   "execution_count": null,
   "id": "a4939eec-5e76-4fed-b824-ad64900f3cce",
   "metadata": {},
   "outputs": [],
   "source": [
    "# Without Math Function and declaring self hcf function\n",
    "def compute_hcf(a, b):\n",
    "    while b != 0:\n",
    "        a, b = b, a % b\n",
    "    return a\n",
    "    \n",
    "a, b = map(int, input().split())\n",
    "\n",
    "hcf = compute_hcf(a, b)\n",
    "\n",
    "lcm = (a * b) // hcf\n",
    "\n",
    "print(hcf, lcm)\n"
   ]
  },
  {
   "cell_type": "markdown",
   "id": "3411dbad-c36c-4087-a526-7a88247e6656",
   "metadata": {},
   "source": [
    "##  Full Barrier Alchemist\n",
    "Edward Elric is chasing after Scar. To stop Edward, Scar creates N barriers in the way, numbered from 1 to N. Each barrier Scar created is either one of the following two types.\n",
    "\n",
    "1. Type 1 barrier - This barrier starts from a height X above the ground and extends till the sky.\n",
    "2. Type 2 barrier - This barrier starts from the ground and extends up to height X above the ground.\n",
    "\n",
    "The height of Edward is H units and he has an alchemic life force of L units. Moreover, he can duck by Y1 units and jump by height Y2 units (as explained in the figures). He starts crossing barriers in sequence, starting from barrier 1 till the barrier N. Whenever he can't pass a barrier by ducking or jumping (considered passed even when the barrier just touches him), he uses Alchemy to break the barrier. However, this costs him a single unit of his alchemic life force.\n",
    "\n",
    "If after breaking a barrier no life force is left, Edward gets completely exhausted, unable to pass that barrier.\n",
    "How many barriers can Edward cross?\n",
    "\n",
    "And remember never to call him a pipsqueak if his height is too short!"
   ]
  },
  {
   "cell_type": "code",
   "execution_count": null,
   "id": "91ba0b07-f10a-4a96-8446-962038c3ce98",
   "metadata": {},
   "outputs": [],
   "source": [
    "T = int(input())\n",
    "\n",
    "for _ in range(T):\n",
    "    N, H, Y1, Y2, L = map(int, input().split())\n",
    "    barriers_passed = 0\n",
    "    for i in range(N):\n",
    "        t, X = map(int, input().split())\n",
    "        if t == 1 and H - Y1 > X:\n",
    "            L -= 1\n",
    "        elif t == 2 and Y2 < X:\n",
    "            L -= 1\n",
    "        if L > 0:\n",
    "          barriers_passed += 1\n",
    "    print(barriers_passed)"
   ]
  },
  {
   "cell_type": "markdown",
   "id": "33230b47-a542-42e2-a15f-bf487b8b04c5",
   "metadata": {},
   "source": [
    "## Hardest Problem Bet "
   ]
  },
  {
   "cell_type": "code",
   "execution_count": null,
   "id": "9835bc02-d83c-4608-93c0-198275f4be14",
   "metadata": {},
   "outputs": [],
   "source": [
    "T = int(input())\n",
    "\n",
    "for _ in range(T):\n",
    "    SA, SB, SC = map(int, input().split())\n",
    "\n",
    "    if SC < SA and SC < SB:\n",
    "        print(\"Alice\")\n",
    "    elif SB < SA and SB < SC:\n",
    "        print(\"Bob\")\n",
    "    else:\n",
    "        print(\"Draw\")\n"
   ]
  },
  {
   "cell_type": "markdown",
   "id": "821b5051-0f29-49f3-b228-ee540bc443a2",
   "metadata": {},
   "source": [
    "## Distinct Pairs "
   ]
  },
  {
   "cell_type": "code",
   "execution_count": null,
   "id": "d701cf3c-4e01-4972-a742-d85f33a48ad7",
   "metadata": {},
   "outputs": [],
   "source": [
    "# Logic 1\n",
    "N, M = map(int, input().split())\n",
    "A = list(map(int, input().split()))\n",
    "B = list(map(int, input().split()))\n",
    "minA_idx = A.index(min(A))\n",
    "maxB_idx = B.index(max(B))  \n",
    "for j in range(M):\n",
    "    print(minA_idx, j)\n",
    "for i in range(N):\n",
    "    if i != minA_idx:\n",
    "        print(i, maxB_idx)"
   ]
  },
  {
   "cell_type": "code",
   "execution_count": null,
   "id": "47c39edc-15eb-469d-b864-6c56105b23fe",
   "metadata": {},
   "outputs": [],
   "source": [
    "# Logic 2\n",
    "n, m = map(int, input().split())\n",
    "list1 = list(map(int, input().split()))\n",
    "list2 = list(map(int, input().split()))\n",
    "result = set()\n",
    "for i in range(len(list1)):\n",
    "    for j in range(len(list2)):\n",
    "        if list1[i] + list2[j] not in result:\n",
    "            result.add(list1[i] + list2[j])\n",
    "            print(i, j)\n",
    "            if len(result) == (n + m - 1): break\n",
    "    if len(result) == (n + m - 1): break"
   ]
  },
  {
   "cell_type": "markdown",
   "id": "6eb1b980-91f8-46f6-8f1f-7d4b1c66d5d4",
   "metadata": {},
   "source": [
    "## Add Digits  "
   ]
  },
  {
   "cell_type": "code",
   "execution_count": null,
   "id": "9bef7eeb-b555-419b-84a3-72bb70a76215",
   "metadata": {},
   "outputs": [],
   "source": [
    "def add_digits(num): # Digital Root \n",
    "    if num == 0:\n",
    "        return 0\n",
    "    return 9 if num % 9 == 0 else num % 9"
   ]
  },
  {
   "cell_type": "markdown",
   "id": "ed8cb25f-9efb-4c4d-9f3a-469bb35c5a6f",
   "metadata": {},
   "source": [
    "# Class Assignment-1: Piglatin Word Generator, Data Encryption\n",
    "1. Input: transfer one million dollars to the account six two two\n",
    "2. Output: ransfertp neop illionmp ollarsdp otp hetp ccountap ixsp wotp wotp"
   ]
  },
  {
   "cell_type": "code",
   "execution_count": 19,
   "id": "0af3db34-2845-4079-a4e0-73f00332d2e6",
   "metadata": {},
   "outputs": [
    {
     "name": "stdin",
     "output_type": "stream",
     "text": [
      " transfer one million dollars to the account six two two\n"
     ]
    },
    {
     "name": "stdout",
     "output_type": "stream",
     "text": [
      "ransfertp neop illionmp ollarsdp otp hetp ccountap ixsp wotp wotp\n"
     ]
    }
   ],
   "source": [
    "def piglatin_encrypt(word):\n",
    "    if len(word) == 1:\n",
    "        return word + 'p'\n",
    "    \n",
    "    return word[1:] + word[0] + 'p'\n",
    "\n",
    "sentence = input().strip().lower()\n",
    "words = sentence.split()\n",
    "\n",
    "output = [piglatin_encrypt(word) for word in words]\n",
    "\n",
    "print(\" \".join(output))\n"
   ]
  },
  {
   "cell_type": "markdown",
   "id": "d710439b-437b-4ff0-9890-2424b9969f0a",
   "metadata": {},
   "source": [
    "# Class Assignment-2: Number Theory & Mathematical Problems\n",
    "1. Krishnamurthy Number\n",
    "2. 📌 Problem Statement: A number is a Krishnamurthy number if the sum of the factorials of its digits equals the number itself.\n",
    "3. ✅ Example 1: 145 → (1! + 4! + 5!) = 145\n",
    "4. ✅ Example 2: 40585 → (4! + 0! + 5! + 8! + 5!) = 40585"
   ]
  },
  {
   "cell_type": "code",
   "execution_count": 21,
   "id": "3edcf281-9257-47dd-a316-845fdcb1fc45",
   "metadata": {},
   "outputs": [
    {
     "name": "stdin",
     "output_type": "stream",
     "text": [
      "Enter a number:  145\n"
     ]
    },
    {
     "name": "stdout",
     "output_type": "stream",
     "text": [
      "Yes, it's a Krishnamurthy number\n"
     ]
    }
   ],
   "source": [
    "def factorial(n):\n",
    "    fact = 1\n",
    "    for i in range(2, n + 1):\n",
    "        fact *= i\n",
    "    return fact\n",
    "\n",
    "def is_krishnamurthy(num):\n",
    "    original = num\n",
    "    total = 0\n",
    "    while num > 0:\n",
    "        digit = num % 10\n",
    "        total += factorial(digit)\n",
    "        num //= 10\n",
    "    return total == original\n",
    "    \n",
    "number = int(input(\"Enter a number: \"))\n",
    "\n",
    "if is_krishnamurthy(number):\n",
    "    print(\"Yes, it's a Krishnamurthy number\")\n",
    "else:\n",
    "    print(\"No, it's not a Krishnamurthy number\")\n"
   ]
  },
  {
   "cell_type": "markdown",
   "id": "87dc747d-215d-4557-bcec-632d7fd6f01d",
   "metadata": {},
   "source": [
    "# Class Assignment-3: Madam Number (Palindrome Number)\n",
    "1. 📌 Problem Statement: A number is a Madam number if it remains the same when reversed.\n",
    "2. ✅ Example 1: 121 → Reverse = 121 ✅\n",
    "3. ✅ Example 2: 1331 → Reverse = 1331 ✅"
   ]
  },
  {
   "cell_type": "code",
   "execution_count": 23,
   "id": "5b53b348-c6e7-4520-b108-ffb18b4050e3",
   "metadata": {},
   "outputs": [
    {
     "name": "stdin",
     "output_type": "stream",
     "text": [
      "Enter a number 2457\n"
     ]
    },
    {
     "name": "stdout",
     "output_type": "stream",
     "text": [
      "Not Madam Number\n"
     ]
    }
   ],
   "source": [
    "n = str(input(\"Enter a number\"))\n",
    "\n",
    "if n == n[::-1]:\n",
    "    print(\"Is Madam Number\")\n",
    "else:\n",
    "    print(\"Not Madam Number\")"
   ]
  },
  {
   "cell_type": "code",
   "execution_count": null,
   "id": "23c604e9-bead-4403-bee4-fb8388526937",
   "metadata": {},
   "outputs": [],
   "source": []
  },
  {
   "cell_type": "code",
   "execution_count": null,
   "id": "2a5ddbc5-b8f2-41e3-a1ee-02efdc3f03d0",
   "metadata": {},
   "outputs": [],
   "source": []
  }
 ],
 "metadata": {
  "kernelspec": {
   "display_name": "Python 3 (ipykernel)",
   "language": "python",
   "name": "python3"
  },
  "language_info": {
   "codemirror_mode": {
    "name": "ipython",
    "version": 3
   },
   "file_extension": ".py",
   "mimetype": "text/x-python",
   "name": "python",
   "nbconvert_exporter": "python",
   "pygments_lexer": "ipython3",
   "version": "3.11.7"
  }
 },
 "nbformat": 4,
 "nbformat_minor": 5
}
