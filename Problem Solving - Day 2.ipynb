{
 "cells": [
  {
   "cell_type": "markdown",
   "id": "b534edea-48dc-4464-ae16-abe03d87168f",
   "metadata": {},
   "source": [
    "# **Code Chef Problems**"
   ]
  },
  {
   "cell_type": "markdown",
   "id": "0381460b-a5b3-4958-bfef-8b2fd61bef34",
   "metadata": {},
   "source": [
    "## Find the second largest\n",
    "Given three distinct integers A, B, C, print the second largest number among these "
   ]
  },
  {
   "cell_type": "code",
   "execution_count": 3,
   "id": "52db6103-be49-4aec-84dd-c8acf6f4381c",
   "metadata": {},
   "outputs": [
    {
     "name": "stdin",
     "output_type": "stream",
     "text": [
      "Enter number of numbers:  3\n",
      "Enter number 1:  21\n",
      "Enter number 2:  54\n",
      "Enter number 3:  85\n"
     ]
    },
    {
     "name": "stdout",
     "output_type": "stream",
     "text": [
      "Second largest number is: 54\n"
     ]
    }
   ],
   "source": [
    "# Logic - 1\n",
    "A = int(input())\n",
    "B = int(input())\n",
    "C = int(input())\n",
    "\n",
    "num = [A, B, C]\n",
    "\n",
    "num.sort()\n",
    "print(num[-2])\n"
   ]
  },
  {
   "cell_type": "code",
   "execution_count": 8,
   "id": "99b661e0-e8b3-4041-87ec-8a908f67df00",
   "metadata": {},
   "outputs": [
    {
     "name": "stdin",
     "output_type": "stream",
     "text": [
      " 15\n",
      " 28\n",
      " 21\n"
     ]
    },
    {
     "name": "stdout",
     "output_type": "stream",
     "text": [
      "28 15 21\n",
      "21\n"
     ]
    }
   ],
   "source": [
    "# Logic - 2\n",
    "A = int(input())\n",
    "B = int(input())\n",
    "C = int(input())\n",
    "\n",
    "if (A > B):\n",
    "    max1 = A\n",
    "    max2 = B\n",
    "else:\n",
    "    max1 = B\n",
    "    max2 = A\n",
    "\n",
    "if C >= max1:\n",
    "    print(max1)\n",
    "elif C >= max2:\n",
    "    print(C)\n",
    "else:\n",
    "    print(max2)"
   ]
  },
  {
   "cell_type": "markdown",
   "id": "e5b588ec-6bbc-40d3-94dd-9fc13fd1710d",
   "metadata": {},
   "source": [
    "## Closest Divisor\n",
    "Given two integers A and B, find the largest number  which is completely divisible by B\n"
   ]
  },
  {
   "cell_type": "code",
   "execution_count": null,
   "id": "380a8b03-0ad5-4b2c-96e8-2df279c7c8f9",
   "metadata": {},
   "outputs": [],
   "source": []
  },
  {
   "cell_type": "code",
   "execution_count": null,
   "id": "434ade63-462e-4014-8ff1-435c63bd58e7",
   "metadata": {},
   "outputs": [],
   "source": []
  },
  {
   "cell_type": "code",
   "execution_count": null,
   "id": "be30af47-13d8-4603-832f-afaa8e754670",
   "metadata": {},
   "outputs": [],
   "source": []
  },
  {
   "cell_type": "code",
   "execution_count": null,
   "id": "41373651-1bc4-430f-8706-9cdf5f616b58",
   "metadata": {},
   "outputs": [],
   "source": []
  },
  {
   "cell_type": "code",
   "execution_count": null,
   "id": "bdaed6bb-5ce3-4d5b-9359-9ca2e008d499",
   "metadata": {},
   "outputs": [],
   "source": []
  },
  {
   "cell_type": "code",
   "execution_count": null,
   "id": "e65b7a1e-401b-48ac-accd-b4c0205d8bd0",
   "metadata": {},
   "outputs": [],
   "source": []
  },
  {
   "cell_type": "code",
   "execution_count": null,
   "id": "0aed91e3-032f-4602-81e8-d4bc15b492d8",
   "metadata": {},
   "outputs": [],
   "source": []
  },
  {
   "cell_type": "code",
   "execution_count": null,
   "id": "6e8133fb-101b-4753-a251-7e556bb03671",
   "metadata": {},
   "outputs": [],
   "source": []
  },
  {
   "cell_type": "code",
   "execution_count": null,
   "id": "a2a81197-570a-4002-baad-f9c90238b786",
   "metadata": {},
   "outputs": [],
   "source": []
  },
  {
   "cell_type": "code",
   "execution_count": null,
   "id": "3eab509b-d697-42d2-a3a4-4b58b365abf5",
   "metadata": {},
   "outputs": [],
   "source": []
  },
  {
   "cell_type": "code",
   "execution_count": null,
   "id": "599013cc-7441-4c87-a351-3b2842a35b7c",
   "metadata": {},
   "outputs": [],
   "source": []
  },
  {
   "cell_type": "code",
   "execution_count": null,
   "id": "ca21c96b-d8f2-4bcb-ae5c-8db54a4a5d93",
   "metadata": {},
   "outputs": [],
   "source": []
  },
  {
   "cell_type": "code",
   "execution_count": null,
   "id": "d7af19ee-56ae-46cc-b948-f511d9184699",
   "metadata": {},
   "outputs": [],
   "source": []
  },
  {
   "cell_type": "code",
   "execution_count": null,
   "id": "a4939eec-5e76-4fed-b824-ad64900f3cce",
   "metadata": {},
   "outputs": [],
   "source": []
  },
  {
   "cell_type": "code",
   "execution_count": null,
   "id": "006413d6-3693-4e9c-849b-0ac76cd44101",
   "metadata": {},
   "outputs": [],
   "source": [
    "\n",
    "A = int(input())\n",
    "B = int(input())\n",
    "\n",
    "\n",
    "result = A - (A % B)\n",
    "\n",
    "\n",
    "print(result)\n"
   ]
  },
  {
   "cell_type": "code",
   "execution_count": null,
   "id": "16437828-f861-454b-a4d9-ef354a603ec8",
   "metadata": {},
   "outputs": [],
   "source": []
  },
  {
   "cell_type": "code",
   "execution_count": null,
   "id": "c7348859-3ff9-4455-8f5a-30d0d21c947c",
   "metadata": {},
   "outputs": [],
   "source": []
  },
  {
   "cell_type": "code",
   "execution_count": null,
   "id": "9835bc02-d83c-4608-93c0-198275f4be14",
   "metadata": {},
   "outputs": [],
   "source": []
  },
  {
   "cell_type": "code",
   "execution_count": null,
   "id": "b59a8b09-1995-44d7-8ae0-aad1a91a14ef",
   "metadata": {},
   "outputs": [],
   "source": []
  },
  {
   "cell_type": "code",
   "execution_count": null,
   "id": "d701cf3c-4e01-4972-a742-d85f33a48ad7",
   "metadata": {},
   "outputs": [],
   "source": [
    "\n",
    "N = int(input())\n",
    "\n",
    "# Logic as per the problem statement\n",
    "if N % 3 != 0:\n",
    "    print(-1)\n",
    "elif N % 2 == 1:\n",
    "    print(1)\n",
    "else:\n",
    "    print(0)\n"
   ]
  },
  {
   "cell_type": "code",
   "execution_count": null,
   "id": "47c39edc-15eb-469d-b864-6c56105b23fe",
   "metadata": {},
   "outputs": [],
   "source": []
  },
  {
   "cell_type": "code",
   "execution_count": null,
   "id": "2ce612cd-2153-41d3-8e9d-a6bd9ee3b12c",
   "metadata": {},
   "outputs": [],
   "source": []
  },
  {
   "cell_type": "code",
   "execution_count": null,
   "id": "3edcf281-9257-47dd-a316-845fdcb1fc45",
   "metadata": {},
   "outputs": [],
   "source": []
  },
  {
   "cell_type": "code",
   "execution_count": null,
   "id": "2ba3c97a-7de4-4581-87da-c1d8fb2cfea8",
   "metadata": {},
   "outputs": [],
   "source": []
  },
  {
   "cell_type": "code",
   "execution_count": null,
   "id": "5b53b348-c6e7-4520-b108-ffb18b4050e3",
   "metadata": {},
   "outputs": [],
   "source": [
    "# Read input\n",
    "N = int(input())\n",
    "\n",
    "# Get the second last digit (tens place)\n",
    "second_last_digit = (N // 10) % 10\n",
    "\n",
    "# Check if it is 7\n",
    "if second_last_digit == 7:\n",
    "    print(1)\n",
    "else:\n",
    "    print(0)\n"
   ]
  }
 ],
 "metadata": {
  "kernelspec": {
   "display_name": "Python 3 (ipykernel)",
   "language": "python",
   "name": "python3"
  },
  "language_info": {
   "codemirror_mode": {
    "name": "ipython",
    "version": 3
   },
   "file_extension": ".py",
   "mimetype": "text/x-python",
   "name": "python",
   "nbconvert_exporter": "python",
   "pygments_lexer": "ipython3",
   "version": "3.11.7"
  }
 },
 "nbformat": 4,
 "nbformat_minor": 5
}
