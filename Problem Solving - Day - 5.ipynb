{
 "cells": [
  {
   "cell_type": "code",
   "execution_count": null,
   "id": "c82431be-9a6c-4c7f-b825-7d44ce2a5e91",
   "metadata": {},
   "outputs": [],
   "source": []
  }
 ],
 "metadata": {
  "kernelspec": {
   "display_name": "",
   "name": ""
  },
  "language_info": {
   "name": ""
  }
 },
 "nbformat": 4,
 "nbformat_minor": 5
}
